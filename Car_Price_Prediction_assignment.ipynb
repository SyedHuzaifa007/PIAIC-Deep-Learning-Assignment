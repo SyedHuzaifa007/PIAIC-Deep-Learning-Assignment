{
  "nbformat": 4,
  "nbformat_minor": 0,
  "metadata": {
    "kernelspec": {
      "display_name": "Python 3",
      "language": "python",
      "name": "python3"
    },
    "language_info": {
      "codemirror_mode": {
        "name": "ipython",
        "version": 3
      },
      "file_extension": ".py",
      "mimetype": "text/x-python",
      "name": "python",
      "nbconvert_exporter": "python",
      "pygments_lexer": "ipython3",
      "version": "3.7.3"
    },
    "colab": {
      "name": "Car Price Prediction assignment.ipynb",
      "provenance": [],
      "include_colab_link": true
    }
  },
  "cells": [
    {
      "cell_type": "markdown",
      "metadata": {
        "id": "view-in-github",
        "colab_type": "text"
      },
      "source": [
        "<a href=\"https://colab.research.google.com/github/SyedHuzaifa007/PIAIC-Deep-Learning-Assignments/blob/main/Car_Price_Prediction_assignment.ipynb\" target=\"_parent\"><img src=\"https://colab.research.google.com/assets/colab-badge.svg\" alt=\"Open In Colab\"/></a>"
      ]
    },
    {
      "cell_type": "markdown",
      "metadata": {
        "id": "A5DzUAbbjsUI"
      },
      "source": [
        "# Car Price Prediction::"
      ]
    },
    {
      "cell_type": "markdown",
      "metadata": {
        "id": "QTTY4V-RjsUQ"
      },
      "source": [
        "Download dataset from this link:\n",
        "\n",
        "https://www.kaggle.com/hellbuoy/car-price-prediction"
      ]
    },
    {
      "cell_type": "markdown",
      "metadata": {
        "id": "aebks-3EjsUR"
      },
      "source": [
        "# Problem Statement::"
      ]
    },
    {
      "cell_type": "markdown",
      "metadata": {
        "id": "e7MF4HjEjsUR"
      },
      "source": [
        "A Chinese automobile company Geely Auto aspires to enter the US market by setting up their manufacturing unit there and producing cars locally to give competition to their US and European counterparts.\n",
        "\n",
        "They have contracted an automobile consulting company to understand the factors on which the pricing of cars depends. Specifically, they want to understand the factors affecting the pricing of cars in the American market, since those may be very different from the Chinese market. The company wants to know:\n",
        "\n",
        "Which variables are significant in predicting the price of a car\n",
        "How well those variables describe the price of a car\n",
        "Based on various market surveys, the consulting firm has gathered a large data set of different types of cars across the America market.\n",
        "\n",
        "# task::\n",
        "We are required to model the price of cars with the available independent variables. It will be used by the management to understand how exactly the prices vary with the independent variables. They can accordingly manipulate the design of the cars, the business strategy etc. to meet certain price levels. Further, the model will be a good way for management to understand the pricing dynamics of a new market."
      ]
    },
    {
      "cell_type": "markdown",
      "metadata": {
        "id": "C4wQTKQBjsUS"
      },
      "source": [
        "# WORKFLOW ::"
      ]
    },
    {
      "cell_type": "markdown",
      "metadata": {
        "id": "zZ74bRA_jsUS"
      },
      "source": [
        "1.Load Data\n",
        "\n",
        "2.Check Missing Values ( If Exist ; Fill each record with mean of its feature )\n",
        "\n",
        "3.Split into 50% Training(Samples,Labels) , 30% Test(Samples,Labels) and 20% Validation Data(Samples,Labels).\n",
        "\n",
        "4.Model : input Layer (No. of features ), 3 hidden layers including 10,8,6 unit & Output Layer with activation function relu/tanh (check by experiment).\n",
        "\n",
        "5.Compilation Step (Note : Its a Regression problem , select loss , metrics according to it)\n",
        "6.Train the Model with Epochs (100) and validate it\n",
        "\n",
        "7.If the model gets overfit tune your model by changing the units , No. of layers , activation function , epochs , add dropout layer or add Regularizer according to the need .\n",
        "\n",
        "8.Evaluation Step\n",
        "\n",
        "9.Prediction"
      ]
    },
    {
      "cell_type": "code",
      "metadata": {
        "id": "BwscSWShjsUZ"
      },
      "source": [
        ""
      ],
      "execution_count": null,
      "outputs": []
    },
    {
      "cell_type": "code",
      "metadata": {
        "id": "nv2oSSOIjsUZ"
      },
      "source": [
        ""
      ],
      "execution_count": null,
      "outputs": []
    },
    {
      "cell_type": "code",
      "metadata": {
        "id": "3zgXM6kRjsUa"
      },
      "source": [
        ""
      ],
      "execution_count": null,
      "outputs": []
    },
    {
      "cell_type": "code",
      "metadata": {
        "id": "lHCfzFRFjsUa"
      },
      "source": [
        "\n"
      ],
      "execution_count": null,
      "outputs": []
    },
    {
      "cell_type": "code",
      "metadata": {
        "id": "BH-gSrz0jsUb"
      },
      "source": [
        ""
      ],
      "execution_count": null,
      "outputs": []
    },
    {
      "cell_type": "code",
      "metadata": {
        "id": "RGd3tmjnjsUb"
      },
      "source": [
        ""
      ],
      "execution_count": null,
      "outputs": []
    }
  ]
}