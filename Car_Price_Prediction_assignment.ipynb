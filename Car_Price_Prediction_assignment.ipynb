{
  "nbformat": 4,
  "nbformat_minor": 0,
  "metadata": {
    "kernelspec": {
      "display_name": "Python 3",
      "language": "python",
      "name": "python3"
    },
    "language_info": {
      "codemirror_mode": {
        "name": "ipython",
        "version": 3
      },
      "file_extension": ".py",
      "mimetype": "text/x-python",
      "name": "python",
      "nbconvert_exporter": "python",
      "pygments_lexer": "ipython3",
      "version": "3.7.3"
    },
    "colab": {
      "name": "Car_Price_Prediction_assignment.ipynb",
      "provenance": [],
      "collapsed_sections": [],
      "include_colab_link": true
    }
  },
  "cells": [
    {
      "cell_type": "markdown",
      "metadata": {
        "id": "view-in-github",
        "colab_type": "text"
      },
      "source": [
        "<a href=\"https://colab.research.google.com/github/SyedHuzaifa007/PIAIC-Deep-Learning-Assignments/blob/main/Car_Price_Prediction_assignment.ipynb\" target=\"_parent\"><img src=\"https://colab.research.google.com/assets/colab-badge.svg\" alt=\"Open In Colab\"/></a>"
      ]
    },
    {
      "cell_type": "markdown",
      "metadata": {
        "id": "A5DzUAbbjsUI"
      },
      "source": [
        "# Car Price Prediction::"
      ]
    },
    {
      "cell_type": "markdown",
      "metadata": {
        "id": "QTTY4V-RjsUQ"
      },
      "source": [
        "Download dataset from this link:\n",
        "\n",
        "https://www.kaggle.com/hellbuoy/car-price-prediction"
      ]
    },
    {
      "cell_type": "markdown",
      "metadata": {
        "id": "aebks-3EjsUR"
      },
      "source": [
        "# Problem Statement::"
      ]
    },
    {
      "cell_type": "markdown",
      "metadata": {
        "id": "e7MF4HjEjsUR"
      },
      "source": [
        "A Chinese automobile company Geely Auto aspires to enter the US market by setting up their manufacturing unit there and producing cars locally to give competition to their US and European counterparts.\n",
        "\n",
        "They have contracted an automobile consulting company to understand the factors on which the pricing of cars depends. Specifically, they want to understand the factors affecting the pricing of cars in the American market, since those may be very different from the Chinese market. The company wants to know:\n",
        "\n",
        "Which variables are significant in predicting the price of a car\n",
        "How well those variables describe the price of a car\n",
        "Based on various market surveys, the consulting firm has gathered a large data set of different types of cars across the America market.\n",
        "\n",
        "# task::\n",
        "We are required to model the price of cars with the available independent variables. It will be used by the management to understand how exactly the prices vary with the independent variables. They can accordingly manipulate the design of the cars, the business strategy etc. to meet certain price levels. Further, the model will be a good way for management to understand the pricing dynamics of a new market."
      ]
    },
    {
      "cell_type": "markdown",
      "metadata": {
        "id": "C4wQTKQBjsUS"
      },
      "source": [
        "# WORKFLOW ::"
      ]
    },
    {
      "cell_type": "markdown",
      "metadata": {
        "id": "zZ74bRA_jsUS"
      },
      "source": [
        "1.Load Data\n",
        "\n",
        "2.Check Missing Values ( If Exist ; Fill each record with mean of its feature )\n",
        "\n",
        "3.Split into 50% Training(Samples,Labels) , 30% Test(Samples,Labels) and 20% Validation Data(Samples,Labels).\n",
        "\n",
        "4.Model : input Layer (No. of features ), 3 hidden layers including 10,8,6 unit & Output Layer with activation function relu/tanh (check by experiment).\n",
        "\n",
        "5.Compilation Step (Note : Its a Regression problem , select loss , metrics according to it)\n",
        "6.Train the Model with Epochs (100) and validate it\n",
        "\n",
        "7.If the model gets overfit tune your model by changing the units , No. of layers , activation function , epochs , add dropout layer or add Regularizer according to the need .\n",
        "\n",
        "8.Evaluation Step\n",
        "\n",
        "9.Prediction"
      ]
    },
    {
      "cell_type": "code",
      "metadata": {
        "colab": {
          "base_uri": "https://localhost:8080/"
        },
        "id": "qYap56llsRfC",
        "outputId": "2f776996-9f2e-4783-d708-682a3b363c34"
      },
      "source": [
        "from google.colab import drive\n",
        "drive.mount('/content/drive')"
      ],
      "execution_count": null,
      "outputs": [
        {
          "output_type": "stream",
          "text": [
            "Drive already mounted at /content/drive; to attempt to forcibly remount, call drive.mount(\"/content/drive\", force_remount=True).\n"
          ],
          "name": "stdout"
        }
      ]
    },
    {
      "cell_type": "code",
      "metadata": {
        "id": "nlbD-m7ELWTi"
      },
      "source": [
        "# Importing Modules \n",
        "\n",
        "import numpy as np\n",
        "import pandas as pd\n",
        "import matplotlib.pyplot as plt\n",
        "from sklearn.preprocessing import LabelEncoder\n",
        "import tensorflow as tf\n",
        "from tensorflow.keras.models import Model\n",
        "from tensorflow.keras.layers import Input, Dense, Dropout\n",
        "from tensorflow.keras.utils import to_categorical\n",
        "import tensorboard\n",
        "import seaborn as sns"
      ],
      "execution_count": null,
      "outputs": []
    },
    {
      "cell_type": "code",
      "metadata": {
        "id": "nv2oSSOIjsUZ"
      },
      "source": [
        "# Loading the data\n",
        "\n",
        "import pandas as pd\n",
        "df = pd.read_csv('/content/drive/MyDrive/PIAIC Deep Learning Assignments/CarPrice_Assignment.csv')"
      ],
      "execution_count": null,
      "outputs": []
    },
    {
      "cell_type": "code",
      "metadata": {
        "id": "g2IQwfRSWULq",
        "colab": {
          "base_uri": "https://localhost:8080/",
          "height": 272
        },
        "outputId": "387eae03-5121-4bba-e805-8341dd0c53b9"
      },
      "source": [
        "df.head()"
      ],
      "execution_count": null,
      "outputs": [
        {
          "output_type": "execute_result",
          "data": {
            "text/html": [
              "<div>\n",
              "<style scoped>\n",
              "    .dataframe tbody tr th:only-of-type {\n",
              "        vertical-align: middle;\n",
              "    }\n",
              "\n",
              "    .dataframe tbody tr th {\n",
              "        vertical-align: top;\n",
              "    }\n",
              "\n",
              "    .dataframe thead th {\n",
              "        text-align: right;\n",
              "    }\n",
              "</style>\n",
              "<table border=\"1\" class=\"dataframe\">\n",
              "  <thead>\n",
              "    <tr style=\"text-align: right;\">\n",
              "      <th></th>\n",
              "      <th>car_ID</th>\n",
              "      <th>symboling</th>\n",
              "      <th>CarName</th>\n",
              "      <th>fueltype</th>\n",
              "      <th>aspiration</th>\n",
              "      <th>doornumber</th>\n",
              "      <th>carbody</th>\n",
              "      <th>drivewheel</th>\n",
              "      <th>enginelocation</th>\n",
              "      <th>wheelbase</th>\n",
              "      <th>carlength</th>\n",
              "      <th>carwidth</th>\n",
              "      <th>carheight</th>\n",
              "      <th>curbweight</th>\n",
              "      <th>enginetype</th>\n",
              "      <th>cylindernumber</th>\n",
              "      <th>enginesize</th>\n",
              "      <th>fuelsystem</th>\n",
              "      <th>boreratio</th>\n",
              "      <th>stroke</th>\n",
              "      <th>compressionratio</th>\n",
              "      <th>horsepower</th>\n",
              "      <th>peakrpm</th>\n",
              "      <th>citympg</th>\n",
              "      <th>highwaympg</th>\n",
              "      <th>price</th>\n",
              "    </tr>\n",
              "  </thead>\n",
              "  <tbody>\n",
              "    <tr>\n",
              "      <th>0</th>\n",
              "      <td>1</td>\n",
              "      <td>3</td>\n",
              "      <td>alfa-romero giulia</td>\n",
              "      <td>gas</td>\n",
              "      <td>std</td>\n",
              "      <td>two</td>\n",
              "      <td>convertible</td>\n",
              "      <td>rwd</td>\n",
              "      <td>front</td>\n",
              "      <td>88.6</td>\n",
              "      <td>168.8</td>\n",
              "      <td>64.1</td>\n",
              "      <td>48.8</td>\n",
              "      <td>2548</td>\n",
              "      <td>dohc</td>\n",
              "      <td>four</td>\n",
              "      <td>130</td>\n",
              "      <td>mpfi</td>\n",
              "      <td>3.47</td>\n",
              "      <td>2.68</td>\n",
              "      <td>9.0</td>\n",
              "      <td>111</td>\n",
              "      <td>5000</td>\n",
              "      <td>21</td>\n",
              "      <td>27</td>\n",
              "      <td>13495.0</td>\n",
              "    </tr>\n",
              "    <tr>\n",
              "      <th>1</th>\n",
              "      <td>2</td>\n",
              "      <td>3</td>\n",
              "      <td>alfa-romero stelvio</td>\n",
              "      <td>gas</td>\n",
              "      <td>std</td>\n",
              "      <td>two</td>\n",
              "      <td>convertible</td>\n",
              "      <td>rwd</td>\n",
              "      <td>front</td>\n",
              "      <td>88.6</td>\n",
              "      <td>168.8</td>\n",
              "      <td>64.1</td>\n",
              "      <td>48.8</td>\n",
              "      <td>2548</td>\n",
              "      <td>dohc</td>\n",
              "      <td>four</td>\n",
              "      <td>130</td>\n",
              "      <td>mpfi</td>\n",
              "      <td>3.47</td>\n",
              "      <td>2.68</td>\n",
              "      <td>9.0</td>\n",
              "      <td>111</td>\n",
              "      <td>5000</td>\n",
              "      <td>21</td>\n",
              "      <td>27</td>\n",
              "      <td>16500.0</td>\n",
              "    </tr>\n",
              "    <tr>\n",
              "      <th>2</th>\n",
              "      <td>3</td>\n",
              "      <td>1</td>\n",
              "      <td>alfa-romero Quadrifoglio</td>\n",
              "      <td>gas</td>\n",
              "      <td>std</td>\n",
              "      <td>two</td>\n",
              "      <td>hatchback</td>\n",
              "      <td>rwd</td>\n",
              "      <td>front</td>\n",
              "      <td>94.5</td>\n",
              "      <td>171.2</td>\n",
              "      <td>65.5</td>\n",
              "      <td>52.4</td>\n",
              "      <td>2823</td>\n",
              "      <td>ohcv</td>\n",
              "      <td>six</td>\n",
              "      <td>152</td>\n",
              "      <td>mpfi</td>\n",
              "      <td>2.68</td>\n",
              "      <td>3.47</td>\n",
              "      <td>9.0</td>\n",
              "      <td>154</td>\n",
              "      <td>5000</td>\n",
              "      <td>19</td>\n",
              "      <td>26</td>\n",
              "      <td>16500.0</td>\n",
              "    </tr>\n",
              "    <tr>\n",
              "      <th>3</th>\n",
              "      <td>4</td>\n",
              "      <td>2</td>\n",
              "      <td>audi 100 ls</td>\n",
              "      <td>gas</td>\n",
              "      <td>std</td>\n",
              "      <td>four</td>\n",
              "      <td>sedan</td>\n",
              "      <td>fwd</td>\n",
              "      <td>front</td>\n",
              "      <td>99.8</td>\n",
              "      <td>176.6</td>\n",
              "      <td>66.2</td>\n",
              "      <td>54.3</td>\n",
              "      <td>2337</td>\n",
              "      <td>ohc</td>\n",
              "      <td>four</td>\n",
              "      <td>109</td>\n",
              "      <td>mpfi</td>\n",
              "      <td>3.19</td>\n",
              "      <td>3.40</td>\n",
              "      <td>10.0</td>\n",
              "      <td>102</td>\n",
              "      <td>5500</td>\n",
              "      <td>24</td>\n",
              "      <td>30</td>\n",
              "      <td>13950.0</td>\n",
              "    </tr>\n",
              "    <tr>\n",
              "      <th>4</th>\n",
              "      <td>5</td>\n",
              "      <td>2</td>\n",
              "      <td>audi 100ls</td>\n",
              "      <td>gas</td>\n",
              "      <td>std</td>\n",
              "      <td>four</td>\n",
              "      <td>sedan</td>\n",
              "      <td>4wd</td>\n",
              "      <td>front</td>\n",
              "      <td>99.4</td>\n",
              "      <td>176.6</td>\n",
              "      <td>66.4</td>\n",
              "      <td>54.3</td>\n",
              "      <td>2824</td>\n",
              "      <td>ohc</td>\n",
              "      <td>five</td>\n",
              "      <td>136</td>\n",
              "      <td>mpfi</td>\n",
              "      <td>3.19</td>\n",
              "      <td>3.40</td>\n",
              "      <td>8.0</td>\n",
              "      <td>115</td>\n",
              "      <td>5500</td>\n",
              "      <td>18</td>\n",
              "      <td>22</td>\n",
              "      <td>17450.0</td>\n",
              "    </tr>\n",
              "  </tbody>\n",
              "</table>\n",
              "</div>"
            ],
            "text/plain": [
              "   car_ID  symboling                   CarName  ... citympg highwaympg    price\n",
              "0       1          3        alfa-romero giulia  ...      21         27  13495.0\n",
              "1       2          3       alfa-romero stelvio  ...      21         27  16500.0\n",
              "2       3          1  alfa-romero Quadrifoglio  ...      19         26  16500.0\n",
              "3       4          2               audi 100 ls  ...      24         30  13950.0\n",
              "4       5          2                audi 100ls  ...      18         22  17450.0\n",
              "\n",
              "[5 rows x 26 columns]"
            ]
          },
          "metadata": {
            "tags": []
          },
          "execution_count": 6
        }
      ]
    },
    {
      "cell_type": "code",
      "metadata": {
        "colab": {
          "base_uri": "https://localhost:8080/"
        },
        "id": "mPAZxzGt6ua-",
        "outputId": "0f758ded-645d-4107-b0f8-4167f3baddc4"
      },
      "source": [
        "df.info()"
      ],
      "execution_count": null,
      "outputs": [
        {
          "output_type": "stream",
          "text": [
            "<class 'pandas.core.frame.DataFrame'>\n",
            "RangeIndex: 205 entries, 0 to 204\n",
            "Data columns (total 26 columns):\n",
            " #   Column            Non-Null Count  Dtype  \n",
            "---  ------            --------------  -----  \n",
            " 0   car_ID            205 non-null    int64  \n",
            " 1   symboling         205 non-null    int64  \n",
            " 2   CarName           205 non-null    object \n",
            " 3   fueltype          205 non-null    object \n",
            " 4   aspiration        205 non-null    object \n",
            " 5   doornumber        205 non-null    object \n",
            " 6   carbody           205 non-null    object \n",
            " 7   drivewheel        205 non-null    object \n",
            " 8   enginelocation    205 non-null    object \n",
            " 9   wheelbase         205 non-null    float64\n",
            " 10  carlength         205 non-null    float64\n",
            " 11  carwidth          205 non-null    float64\n",
            " 12  carheight         205 non-null    float64\n",
            " 13  curbweight        205 non-null    int64  \n",
            " 14  enginetype        205 non-null    object \n",
            " 15  cylindernumber    205 non-null    object \n",
            " 16  enginesize        205 non-null    int64  \n",
            " 17  fuelsystem        205 non-null    object \n",
            " 18  boreratio         205 non-null    float64\n",
            " 19  stroke            205 non-null    float64\n",
            " 20  compressionratio  205 non-null    float64\n",
            " 21  horsepower        205 non-null    int64  \n",
            " 22  peakrpm           205 non-null    int64  \n",
            " 23  citympg           205 non-null    int64  \n",
            " 24  highwaympg        205 non-null    int64  \n",
            " 25  price             205 non-null    float64\n",
            "dtypes: float64(8), int64(8), object(10)\n",
            "memory usage: 41.8+ KB\n"
          ],
          "name": "stdout"
        }
      ]
    },
    {
      "cell_type": "code",
      "metadata": {
        "colab": {
          "base_uri": "https://localhost:8080/"
        },
        "id": "c3RD-GgpBc7P",
        "outputId": "863e764e-326c-4d40-ee3b-fc59991518f4"
      },
      "source": [
        "# Checking The Data For Null Values\n",
        "df.isnull().sum()"
      ],
      "execution_count": null,
      "outputs": [
        {
          "output_type": "execute_result",
          "data": {
            "text/plain": [
              "car_ID              0\n",
              "symboling           0\n",
              "CarName             0\n",
              "fueltype            0\n",
              "aspiration          0\n",
              "doornumber          0\n",
              "carbody             0\n",
              "drivewheel          0\n",
              "enginelocation      0\n",
              "wheelbase           0\n",
              "carlength           0\n",
              "carwidth            0\n",
              "carheight           0\n",
              "curbweight          0\n",
              "enginetype          0\n",
              "cylindernumber      0\n",
              "enginesize          0\n",
              "fuelsystem          0\n",
              "boreratio           0\n",
              "stroke              0\n",
              "compressionratio    0\n",
              "horsepower          0\n",
              "peakrpm             0\n",
              "citympg             0\n",
              "highwaympg          0\n",
              "price               0\n",
              "dtype: int64"
            ]
          },
          "metadata": {
            "tags": []
          },
          "execution_count": 8
        }
      ]
    },
    {
      "cell_type": "markdown",
      "metadata": {
        "id": "ma6_c3nSB1nh"
      },
      "source": [
        "OUR DATA CONTAINS NO NULL VALUES"
      ]
    },
    {
      "cell_type": "code",
      "metadata": {
        "colab": {
          "base_uri": "https://localhost:8080/",
          "height": 538
        },
        "id": "dzKblvdI62eS",
        "outputId": "8f70f56a-08ec-4e16-bbfb-6aa64652276f"
      },
      "source": [
        "# Checking Some Important Stats\n",
        "df.describe().T"
      ],
      "execution_count": null,
      "outputs": [
        {
          "output_type": "execute_result",
          "data": {
            "text/html": [
              "<div>\n",
              "<style scoped>\n",
              "    .dataframe tbody tr th:only-of-type {\n",
              "        vertical-align: middle;\n",
              "    }\n",
              "\n",
              "    .dataframe tbody tr th {\n",
              "        vertical-align: top;\n",
              "    }\n",
              "\n",
              "    .dataframe thead th {\n",
              "        text-align: right;\n",
              "    }\n",
              "</style>\n",
              "<table border=\"1\" class=\"dataframe\">\n",
              "  <thead>\n",
              "    <tr style=\"text-align: right;\">\n",
              "      <th></th>\n",
              "      <th>count</th>\n",
              "      <th>mean</th>\n",
              "      <th>std</th>\n",
              "      <th>min</th>\n",
              "      <th>25%</th>\n",
              "      <th>50%</th>\n",
              "      <th>75%</th>\n",
              "      <th>max</th>\n",
              "    </tr>\n",
              "  </thead>\n",
              "  <tbody>\n",
              "    <tr>\n",
              "      <th>car_ID</th>\n",
              "      <td>205.0</td>\n",
              "      <td>103.000000</td>\n",
              "      <td>59.322565</td>\n",
              "      <td>1.00</td>\n",
              "      <td>52.00</td>\n",
              "      <td>103.00</td>\n",
              "      <td>154.00</td>\n",
              "      <td>205.00</td>\n",
              "    </tr>\n",
              "    <tr>\n",
              "      <th>symboling</th>\n",
              "      <td>205.0</td>\n",
              "      <td>0.834146</td>\n",
              "      <td>1.245307</td>\n",
              "      <td>-2.00</td>\n",
              "      <td>0.00</td>\n",
              "      <td>1.00</td>\n",
              "      <td>2.00</td>\n",
              "      <td>3.00</td>\n",
              "    </tr>\n",
              "    <tr>\n",
              "      <th>wheelbase</th>\n",
              "      <td>205.0</td>\n",
              "      <td>98.756585</td>\n",
              "      <td>6.021776</td>\n",
              "      <td>86.60</td>\n",
              "      <td>94.50</td>\n",
              "      <td>97.00</td>\n",
              "      <td>102.40</td>\n",
              "      <td>120.90</td>\n",
              "    </tr>\n",
              "    <tr>\n",
              "      <th>carlength</th>\n",
              "      <td>205.0</td>\n",
              "      <td>174.049268</td>\n",
              "      <td>12.337289</td>\n",
              "      <td>141.10</td>\n",
              "      <td>166.30</td>\n",
              "      <td>173.20</td>\n",
              "      <td>183.10</td>\n",
              "      <td>208.10</td>\n",
              "    </tr>\n",
              "    <tr>\n",
              "      <th>carwidth</th>\n",
              "      <td>205.0</td>\n",
              "      <td>65.907805</td>\n",
              "      <td>2.145204</td>\n",
              "      <td>60.30</td>\n",
              "      <td>64.10</td>\n",
              "      <td>65.50</td>\n",
              "      <td>66.90</td>\n",
              "      <td>72.30</td>\n",
              "    </tr>\n",
              "    <tr>\n",
              "      <th>carheight</th>\n",
              "      <td>205.0</td>\n",
              "      <td>53.724878</td>\n",
              "      <td>2.443522</td>\n",
              "      <td>47.80</td>\n",
              "      <td>52.00</td>\n",
              "      <td>54.10</td>\n",
              "      <td>55.50</td>\n",
              "      <td>59.80</td>\n",
              "    </tr>\n",
              "    <tr>\n",
              "      <th>curbweight</th>\n",
              "      <td>205.0</td>\n",
              "      <td>2555.565854</td>\n",
              "      <td>520.680204</td>\n",
              "      <td>1488.00</td>\n",
              "      <td>2145.00</td>\n",
              "      <td>2414.00</td>\n",
              "      <td>2935.00</td>\n",
              "      <td>4066.00</td>\n",
              "    </tr>\n",
              "    <tr>\n",
              "      <th>enginesize</th>\n",
              "      <td>205.0</td>\n",
              "      <td>126.907317</td>\n",
              "      <td>41.642693</td>\n",
              "      <td>61.00</td>\n",
              "      <td>97.00</td>\n",
              "      <td>120.00</td>\n",
              "      <td>141.00</td>\n",
              "      <td>326.00</td>\n",
              "    </tr>\n",
              "    <tr>\n",
              "      <th>boreratio</th>\n",
              "      <td>205.0</td>\n",
              "      <td>3.329756</td>\n",
              "      <td>0.270844</td>\n",
              "      <td>2.54</td>\n",
              "      <td>3.15</td>\n",
              "      <td>3.31</td>\n",
              "      <td>3.58</td>\n",
              "      <td>3.94</td>\n",
              "    </tr>\n",
              "    <tr>\n",
              "      <th>stroke</th>\n",
              "      <td>205.0</td>\n",
              "      <td>3.255415</td>\n",
              "      <td>0.313597</td>\n",
              "      <td>2.07</td>\n",
              "      <td>3.11</td>\n",
              "      <td>3.29</td>\n",
              "      <td>3.41</td>\n",
              "      <td>4.17</td>\n",
              "    </tr>\n",
              "    <tr>\n",
              "      <th>compressionratio</th>\n",
              "      <td>205.0</td>\n",
              "      <td>10.142537</td>\n",
              "      <td>3.972040</td>\n",
              "      <td>7.00</td>\n",
              "      <td>8.60</td>\n",
              "      <td>9.00</td>\n",
              "      <td>9.40</td>\n",
              "      <td>23.00</td>\n",
              "    </tr>\n",
              "    <tr>\n",
              "      <th>horsepower</th>\n",
              "      <td>205.0</td>\n",
              "      <td>104.117073</td>\n",
              "      <td>39.544167</td>\n",
              "      <td>48.00</td>\n",
              "      <td>70.00</td>\n",
              "      <td>95.00</td>\n",
              "      <td>116.00</td>\n",
              "      <td>288.00</td>\n",
              "    </tr>\n",
              "    <tr>\n",
              "      <th>peakrpm</th>\n",
              "      <td>205.0</td>\n",
              "      <td>5125.121951</td>\n",
              "      <td>476.985643</td>\n",
              "      <td>4150.00</td>\n",
              "      <td>4800.00</td>\n",
              "      <td>5200.00</td>\n",
              "      <td>5500.00</td>\n",
              "      <td>6600.00</td>\n",
              "    </tr>\n",
              "    <tr>\n",
              "      <th>citympg</th>\n",
              "      <td>205.0</td>\n",
              "      <td>25.219512</td>\n",
              "      <td>6.542142</td>\n",
              "      <td>13.00</td>\n",
              "      <td>19.00</td>\n",
              "      <td>24.00</td>\n",
              "      <td>30.00</td>\n",
              "      <td>49.00</td>\n",
              "    </tr>\n",
              "    <tr>\n",
              "      <th>highwaympg</th>\n",
              "      <td>205.0</td>\n",
              "      <td>30.751220</td>\n",
              "      <td>6.886443</td>\n",
              "      <td>16.00</td>\n",
              "      <td>25.00</td>\n",
              "      <td>30.00</td>\n",
              "      <td>34.00</td>\n",
              "      <td>54.00</td>\n",
              "    </tr>\n",
              "    <tr>\n",
              "      <th>price</th>\n",
              "      <td>205.0</td>\n",
              "      <td>13276.710571</td>\n",
              "      <td>7988.852332</td>\n",
              "      <td>5118.00</td>\n",
              "      <td>7788.00</td>\n",
              "      <td>10295.00</td>\n",
              "      <td>16503.00</td>\n",
              "      <td>45400.00</td>\n",
              "    </tr>\n",
              "  </tbody>\n",
              "</table>\n",
              "</div>"
            ],
            "text/plain": [
              "                  count          mean  ...       75%       max\n",
              "car_ID            205.0    103.000000  ...    154.00    205.00\n",
              "symboling         205.0      0.834146  ...      2.00      3.00\n",
              "wheelbase         205.0     98.756585  ...    102.40    120.90\n",
              "carlength         205.0    174.049268  ...    183.10    208.10\n",
              "carwidth          205.0     65.907805  ...     66.90     72.30\n",
              "carheight         205.0     53.724878  ...     55.50     59.80\n",
              "curbweight        205.0   2555.565854  ...   2935.00   4066.00\n",
              "enginesize        205.0    126.907317  ...    141.00    326.00\n",
              "boreratio         205.0      3.329756  ...      3.58      3.94\n",
              "stroke            205.0      3.255415  ...      3.41      4.17\n",
              "compressionratio  205.0     10.142537  ...      9.40     23.00\n",
              "horsepower        205.0    104.117073  ...    116.00    288.00\n",
              "peakrpm           205.0   5125.121951  ...   5500.00   6600.00\n",
              "citympg           205.0     25.219512  ...     30.00     49.00\n",
              "highwaympg        205.0     30.751220  ...     34.00     54.00\n",
              "price             205.0  13276.710571  ...  16503.00  45400.00\n",
              "\n",
              "[16 rows x 8 columns]"
            ]
          },
          "metadata": {
            "tags": []
          },
          "execution_count": 9
        }
      ]
    },
    {
      "cell_type": "code",
      "metadata": {
        "id": "YhNCNqtSCA6P"
      },
      "source": [
        "# Droping Unecessary Features\n",
        "\n",
        "df.drop([\"car_ID\", \"symboling\", \"CarName\"], axis=1, inplace=True)"
      ],
      "execution_count": null,
      "outputs": []
    },
    {
      "cell_type": "code",
      "metadata": {
        "colab": {
          "base_uri": "https://localhost:8080/",
          "height": 567
        },
        "id": "5YZg6AwUudEb",
        "outputId": "428d5e0b-d8e6-4519-f30d-ba8212112f24"
      },
      "source": [
        "# Visualizing The Data\n",
        "\n",
        "plt.figure(figsize=(20,8))\n",
        "\n",
        "plt.subplot(1,2,1)\n",
        "plt.title('Car Price Distribution Plot')\n",
        "sns.distplot(df.price)\n",
        "\n",
        "plt.subplot(1,2,2)\n",
        "plt.title('Car Price Spread')\n",
        "sns.boxplot(y=df.price)\n",
        "\n",
        "plt.show()"
      ],
      "execution_count": null,
      "outputs": [
        {
          "output_type": "stream",
          "text": [
            "/usr/local/lib/python3.7/dist-packages/seaborn/distributions.py:2557: FutureWarning: `distplot` is a deprecated function and will be removed in a future version. Please adapt your code to use either `displot` (a figure-level function with similar flexibility) or `histplot` (an axes-level function for histograms).\n",
            "  warnings.warn(msg, FutureWarning)\n"
          ],
          "name": "stderr"
        },
        {
          "output_type": "display_data",
          "data": {
            "image/png": "[encoded data removed]",
            "text/plain": [
              "<Figure size 1440x576 with 2 Axes>"
            ]
          },
          "metadata": {
            "tags": [],
            "needs_background": "light"
          }
        }
      ]
    },
    {
      "cell_type": "code",
      "metadata": {
        "id": "Jo0-BWi97jzN"
      },
      "source": [
        "# Plotting Relations Between Features\n",
        "# sns.pairplot(df)"
      ],
      "execution_count": 1,
      "outputs": []
    },
    {
      "cell_type": "markdown",
      "metadata": {
        "id": "WDEbA7B25RBd"
      },
      "source": [
        "#### **Note:** I Have Commented The Above Code Snippet Due To Size Issue."
      ]
    },
    {
      "cell_type": "code",
      "metadata": {
        "colab": {
          "base_uri": "https://localhost:8080/",
          "height": 604
        },
        "id": "Se03iTc6vKqN",
        "outputId": "d20fd811-248d-4a30-fedf-bcc91c97b8c4"
      },
      "source": [
        "# Plotting Numerical Features\n",
        "\n",
        "def scatter(x,fig):\n",
        "    plt.subplot(5,2,fig)\n",
        "    plt.scatter(df[x],df['price'])\n",
        "    plt.title(x+' vs Price')\n",
        "    plt.ylabel('Price')\n",
        "    plt.xlabel(x)\n",
        "\n",
        "plt.figure(figsize=(10,20))\n",
        "\n",
        "scatter('carlength', 1)\n",
        "scatter('carwidth', 2)\n",
        "scatter('carheight', 3)\n",
        "scatter('curbweight', 4)\n",
        "\n",
        "plt.tight_layout()"
      ],
      "execution_count": null,
      "outputs": [
        {
          "output_type": "display_data",
          "data": {
            "image/png": "[encoded data removed]",
            "text/plain": [
              "<Figure size 720x1440 with 4 Axes>"
            ]
          },
          "metadata": {
            "tags": [],
            "needs_background": "light"
          }
        }
      ]
    },
    {
      "cell_type": "code",
      "metadata": {
        "id": "QzdIzzz_QbDX"
      },
      "source": [
        "# Converting Alphabetical Features Into Numerical Features\n",
        "\n",
        "import sklearn\n",
        "labelencoder = sklearn.preprocessing.LabelEncoder()\n",
        "df['fueltype'] = labelencoder.fit_transform(df['fueltype'])\n",
        "df['aspiration'] = labelencoder.fit_transform(df['aspiration'])\n",
        "df['carbody'] = labelencoder.fit_transform(df['carbody'])\n",
        "df['drivewheel'] = labelencoder.fit_transform(df['drivewheel'])\n",
        "df['enginelocation'] = labelencoder.fit_transform(df['enginelocation'])\n",
        "df['fuelsystem'] = labelencoder.fit_transform(df['fuelsystem'])\n",
        "df['doornumber'] = labelencoder.fit_transform(df['doornumber'])\n",
        "df['enginetype'] = labelencoder.fit_transform(df['enginetype'])\n",
        "df['cylindernumber'] = labelencoder.fit_transform(df['cylindernumber'])"
      ],
      "execution_count": null,
      "outputs": []
    },
    {
      "cell_type": "code",
      "metadata": {
        "colab": {
          "base_uri": "https://localhost:8080/",
          "height": 221
        },
        "id": "UR_TufnyQa-F",
        "outputId": "26574922-d51b-4c70-fb1b-7a0a4c374d17"
      },
      "source": [
        "# Checking New DataFrame\n",
        "\n",
        "df.head()"
      ],
      "execution_count": null,
      "outputs": [
        {
          "output_type": "execute_result",
          "data": {
            "text/html": [
              "<div>\n",
              "<style scoped>\n",
              "    .dataframe tbody tr th:only-of-type {\n",
              "        vertical-align: middle;\n",
              "    }\n",
              "\n",
              "    .dataframe tbody tr th {\n",
              "        vertical-align: top;\n",
              "    }\n",
              "\n",
              "    .dataframe thead th {\n",
              "        text-align: right;\n",
              "    }\n",
              "</style>\n",
              "<table border=\"1\" class=\"dataframe\">\n",
              "  <thead>\n",
              "    <tr style=\"text-align: right;\">\n",
              "      <th></th>\n",
              "      <th>fueltype</th>\n",
              "      <th>aspiration</th>\n",
              "      <th>doornumber</th>\n",
              "      <th>carbody</th>\n",
              "      <th>drivewheel</th>\n",
              "      <th>enginelocation</th>\n",
              "      <th>wheelbase</th>\n",
              "      <th>carlength</th>\n",
              "      <th>carwidth</th>\n",
              "      <th>carheight</th>\n",
              "      <th>curbweight</th>\n",
              "      <th>enginetype</th>\n",
              "      <th>cylindernumber</th>\n",
              "      <th>enginesize</th>\n",
              "      <th>fuelsystem</th>\n",
              "      <th>boreratio</th>\n",
              "      <th>stroke</th>\n",
              "      <th>compressionratio</th>\n",
              "      <th>horsepower</th>\n",
              "      <th>peakrpm</th>\n",
              "      <th>citympg</th>\n",
              "      <th>highwaympg</th>\n",
              "      <th>price</th>\n",
              "    </tr>\n",
              "  </thead>\n",
              "  <tbody>\n",
              "    <tr>\n",
              "      <th>0</th>\n",
              "      <td>1</td>\n",
              "      <td>0</td>\n",
              "      <td>1</td>\n",
              "      <td>0</td>\n",
              "      <td>2</td>\n",
              "      <td>0</td>\n",
              "      <td>88.6</td>\n",
              "      <td>168.8</td>\n",
              "      <td>64.1</td>\n",
              "      <td>48.8</td>\n",
              "      <td>2548</td>\n",
              "      <td>0</td>\n",
              "      <td>2</td>\n",
              "      <td>130</td>\n",
              "      <td>5</td>\n",
              "      <td>3.47</td>\n",
              "      <td>2.68</td>\n",
              "      <td>9.0</td>\n",
              "      <td>111</td>\n",
              "      <td>5000</td>\n",
              "      <td>21</td>\n",
              "      <td>27</td>\n",
              "      <td>13495.0</td>\n",
              "    </tr>\n",
              "    <tr>\n",
              "      <th>1</th>\n",
              "      <td>1</td>\n",
              "      <td>0</td>\n",
              "      <td>1</td>\n",
              "      <td>0</td>\n",
              "      <td>2</td>\n",
              "      <td>0</td>\n",
              "      <td>88.6</td>\n",
              "      <td>168.8</td>\n",
              "      <td>64.1</td>\n",
              "      <td>48.8</td>\n",
              "      <td>2548</td>\n",
              "      <td>0</td>\n",
              "      <td>2</td>\n",
              "      <td>130</td>\n",
              "      <td>5</td>\n",
              "      <td>3.47</td>\n",
              "      <td>2.68</td>\n",
              "      <td>9.0</td>\n",
              "      <td>111</td>\n",
              "      <td>5000</td>\n",
              "      <td>21</td>\n",
              "      <td>27</td>\n",
              "      <td>16500.0</td>\n",
              "    </tr>\n",
              "    <tr>\n",
              "      <th>2</th>\n",
              "      <td>1</td>\n",
              "      <td>0</td>\n",
              "      <td>1</td>\n",
              "      <td>2</td>\n",
              "      <td>2</td>\n",
              "      <td>0</td>\n",
              "      <td>94.5</td>\n",
              "      <td>171.2</td>\n",
              "      <td>65.5</td>\n",
              "      <td>52.4</td>\n",
              "      <td>2823</td>\n",
              "      <td>5</td>\n",
              "      <td>3</td>\n",
              "      <td>152</td>\n",
              "      <td>5</td>\n",
              "      <td>2.68</td>\n",
              "      <td>3.47</td>\n",
              "      <td>9.0</td>\n",
              "      <td>154</td>\n",
              "      <td>5000</td>\n",
              "      <td>19</td>\n",
              "      <td>26</td>\n",
              "      <td>16500.0</td>\n",
              "    </tr>\n",
              "    <tr>\n",
              "      <th>3</th>\n",
              "      <td>1</td>\n",
              "      <td>0</td>\n",
              "      <td>0</td>\n",
              "      <td>3</td>\n",
              "      <td>1</td>\n",
              "      <td>0</td>\n",
              "      <td>99.8</td>\n",
              "      <td>176.6</td>\n",
              "      <td>66.2</td>\n",
              "      <td>54.3</td>\n",
              "      <td>2337</td>\n",
              "      <td>3</td>\n",
              "      <td>2</td>\n",
              "      <td>109</td>\n",
              "      <td>5</td>\n",
              "      <td>3.19</td>\n",
              "      <td>3.40</td>\n",
              "      <td>10.0</td>\n",
              "      <td>102</td>\n",
              "      <td>5500</td>\n",
              "      <td>24</td>\n",
              "      <td>30</td>\n",
              "      <td>13950.0</td>\n",
              "    </tr>\n",
              "    <tr>\n",
              "      <th>4</th>\n",
              "      <td>1</td>\n",
              "      <td>0</td>\n",
              "      <td>0</td>\n",
              "      <td>3</td>\n",
              "      <td>0</td>\n",
              "      <td>0</td>\n",
              "      <td>99.4</td>\n",
              "      <td>176.6</td>\n",
              "      <td>66.4</td>\n",
              "      <td>54.3</td>\n",
              "      <td>2824</td>\n",
              "      <td>3</td>\n",
              "      <td>1</td>\n",
              "      <td>136</td>\n",
              "      <td>5</td>\n",
              "      <td>3.19</td>\n",
              "      <td>3.40</td>\n",
              "      <td>8.0</td>\n",
              "      <td>115</td>\n",
              "      <td>5500</td>\n",
              "      <td>18</td>\n",
              "      <td>22</td>\n",
              "      <td>17450.0</td>\n",
              "    </tr>\n",
              "  </tbody>\n",
              "</table>\n",
              "</div>"
            ],
            "text/plain": [
              "   fueltype  aspiration  doornumber  ...  citympg  highwaympg    price\n",
              "0         1           0           1  ...       21          27  13495.0\n",
              "1         1           0           1  ...       21          27  16500.0\n",
              "2         1           0           1  ...       19          26  16500.0\n",
              "3         1           0           0  ...       24          30  13950.0\n",
              "4         1           0           0  ...       18          22  17450.0\n",
              "\n",
              "[5 rows x 23 columns]"
            ]
          },
          "metadata": {
            "tags": []
          },
          "execution_count": 12
        }
      ]
    },
    {
      "cell_type": "code",
      "metadata": {
        "colab": {
          "base_uri": "https://localhost:8080/",
          "height": 204
        },
        "id": "UlhnC69lXcg6",
        "outputId": "7b6f911b-d32b-4367-cac4-0b253c668729"
      },
      "source": [
        "# Shuffling Data\n",
        "\n",
        "df = df.sample(frac=1)\n",
        "df.head()"
      ],
      "execution_count": null,
      "outputs": [
        {
          "output_type": "execute_result",
          "data": {
            "text/html": [
              "<div>\n",
              "<style scoped>\n",
              "    .dataframe tbody tr th:only-of-type {\n",
              "        vertical-align: middle;\n",
              "    }\n",
              "\n",
              "    .dataframe tbody tr th {\n",
              "        vertical-align: top;\n",
              "    }\n",
              "\n",
              "    .dataframe thead th {\n",
              "        text-align: right;\n",
              "    }\n",
              "</style>\n",
              "<table border=\"1\" class=\"dataframe\">\n",
              "  <thead>\n",
              "    <tr style=\"text-align: right;\">\n",
              "      <th></th>\n",
              "      <th>fueltype</th>\n",
              "      <th>aspiration</th>\n",
              "      <th>doornumber</th>\n",
              "      <th>carbody</th>\n",
              "      <th>drivewheel</th>\n",
              "      <th>enginelocation</th>\n",
              "      <th>wheelbase</th>\n",
              "      <th>carlength</th>\n",
              "      <th>carwidth</th>\n",
              "      <th>carheight</th>\n",
              "      <th>curbweight</th>\n",
              "      <th>enginetype</th>\n",
              "      <th>cylindernumber</th>\n",
              "      <th>enginesize</th>\n",
              "      <th>fuelsystem</th>\n",
              "      <th>boreratio</th>\n",
              "      <th>stroke</th>\n",
              "      <th>compressionratio</th>\n",
              "      <th>horsepower</th>\n",
              "      <th>peakrpm</th>\n",
              "      <th>citympg</th>\n",
              "      <th>highwaympg</th>\n",
              "      <th>price</th>\n",
              "    </tr>\n",
              "  </thead>\n",
              "  <tbody>\n",
              "    <tr>\n",
              "      <th>100</th>\n",
              "      <td>1</td>\n",
              "      <td>0</td>\n",
              "      <td>0</td>\n",
              "      <td>3</td>\n",
              "      <td>1</td>\n",
              "      <td>0</td>\n",
              "      <td>97.2</td>\n",
              "      <td>173.4</td>\n",
              "      <td>65.2</td>\n",
              "      <td>54.7</td>\n",
              "      <td>2302</td>\n",
              "      <td>3</td>\n",
              "      <td>2</td>\n",
              "      <td>120</td>\n",
              "      <td>1</td>\n",
              "      <td>3.33</td>\n",
              "      <td>3.47</td>\n",
              "      <td>8.5</td>\n",
              "      <td>97</td>\n",
              "      <td>5200</td>\n",
              "      <td>27</td>\n",
              "      <td>34</td>\n",
              "      <td>9549.0</td>\n",
              "    </tr>\n",
              "    <tr>\n",
              "      <th>113</th>\n",
              "      <td>1</td>\n",
              "      <td>0</td>\n",
              "      <td>0</td>\n",
              "      <td>4</td>\n",
              "      <td>2</td>\n",
              "      <td>0</td>\n",
              "      <td>114.2</td>\n",
              "      <td>198.9</td>\n",
              "      <td>68.4</td>\n",
              "      <td>56.7</td>\n",
              "      <td>3285</td>\n",
              "      <td>2</td>\n",
              "      <td>2</td>\n",
              "      <td>120</td>\n",
              "      <td>5</td>\n",
              "      <td>3.46</td>\n",
              "      <td>2.19</td>\n",
              "      <td>8.4</td>\n",
              "      <td>95</td>\n",
              "      <td>5000</td>\n",
              "      <td>19</td>\n",
              "      <td>24</td>\n",
              "      <td>16695.0</td>\n",
              "    </tr>\n",
              "    <tr>\n",
              "      <th>63</th>\n",
              "      <td>0</td>\n",
              "      <td>0</td>\n",
              "      <td>0</td>\n",
              "      <td>3</td>\n",
              "      <td>1</td>\n",
              "      <td>0</td>\n",
              "      <td>98.8</td>\n",
              "      <td>177.8</td>\n",
              "      <td>66.5</td>\n",
              "      <td>55.5</td>\n",
              "      <td>2443</td>\n",
              "      <td>3</td>\n",
              "      <td>2</td>\n",
              "      <td>122</td>\n",
              "      <td>3</td>\n",
              "      <td>3.39</td>\n",
              "      <td>3.39</td>\n",
              "      <td>22.7</td>\n",
              "      <td>64</td>\n",
              "      <td>4650</td>\n",
              "      <td>36</td>\n",
              "      <td>42</td>\n",
              "      <td>10795.0</td>\n",
              "    </tr>\n",
              "    <tr>\n",
              "      <th>168</th>\n",
              "      <td>1</td>\n",
              "      <td>0</td>\n",
              "      <td>1</td>\n",
              "      <td>1</td>\n",
              "      <td>2</td>\n",
              "      <td>0</td>\n",
              "      <td>98.4</td>\n",
              "      <td>176.2</td>\n",
              "      <td>65.6</td>\n",
              "      <td>52.0</td>\n",
              "      <td>2536</td>\n",
              "      <td>3</td>\n",
              "      <td>2</td>\n",
              "      <td>146</td>\n",
              "      <td>5</td>\n",
              "      <td>3.62</td>\n",
              "      <td>3.50</td>\n",
              "      <td>9.3</td>\n",
              "      <td>116</td>\n",
              "      <td>4800</td>\n",
              "      <td>24</td>\n",
              "      <td>30</td>\n",
              "      <td>9639.0</td>\n",
              "    </tr>\n",
              "    <tr>\n",
              "      <th>53</th>\n",
              "      <td>1</td>\n",
              "      <td>0</td>\n",
              "      <td>0</td>\n",
              "      <td>3</td>\n",
              "      <td>1</td>\n",
              "      <td>0</td>\n",
              "      <td>93.1</td>\n",
              "      <td>166.8</td>\n",
              "      <td>64.2</td>\n",
              "      <td>54.1</td>\n",
              "      <td>1945</td>\n",
              "      <td>3</td>\n",
              "      <td>2</td>\n",
              "      <td>91</td>\n",
              "      <td>1</td>\n",
              "      <td>3.03</td>\n",
              "      <td>3.15</td>\n",
              "      <td>9.0</td>\n",
              "      <td>68</td>\n",
              "      <td>5000</td>\n",
              "      <td>31</td>\n",
              "      <td>38</td>\n",
              "      <td>6695.0</td>\n",
              "    </tr>\n",
              "  </tbody>\n",
              "</table>\n",
              "</div>"
            ],
            "text/plain": [
              "     fueltype  aspiration  doornumber  ...  citympg  highwaympg    price\n",
              "100         1           0           0  ...       27          34   9549.0\n",
              "113         1           0           0  ...       19          24  16695.0\n",
              "63          0           0           0  ...       36          42  10795.0\n",
              "168         1           0           1  ...       24          30   9639.0\n",
              "53          1           0           0  ...       31          38   6695.0\n",
              "\n",
              "[5 rows x 23 columns]"
            ]
          },
          "metadata": {
            "tags": []
          },
          "execution_count": 45
        }
      ]
    },
    {
      "cell_type": "code",
      "metadata": {
        "colab": {
          "base_uri": "https://localhost:8080/",
          "height": 672
        },
        "id": "99U5PfTnZSPy",
        "outputId": "bdd98407-0b65-46d9-8812-2505d096c398"
      },
      "source": [
        "# Making A HeatMap of Correlations\n",
        "\n",
        "correlations = df.corr()\n",
        "plt.figure(figsize=(16,10))\n",
        "sns.heatmap(correlations, cmap=\"CMRmap_r\", annot=True)\n",
        "plt.show()"
      ],
      "execution_count": null,
      "outputs": [
        {
          "output_type": "display_data",
          "data": {
            "image/png": "[encoded data removed]",
            "text/plain": [
              "<Figure size 1152x720 with 2 Axes>"
            ]
          },
          "metadata": {
            "tags": [],
            "needs_background": "light"
          }
        }
      ]
    },
    {
      "cell_type": "code",
      "metadata": {
        "colab": {
          "base_uri": "https://localhost:8080/"
        },
        "id": "uRGgkfIed_XT",
        "outputId": "71ea27ee-e0bc-4986-aaae-f2ff96491372"
      },
      "source": [
        "df.shape"
      ],
      "execution_count": null,
      "outputs": [
        {
          "output_type": "execute_result",
          "data": {
            "text/plain": [
              "(205, 23)"
            ]
          },
          "metadata": {
            "tags": []
          },
          "execution_count": 47
        }
      ]
    },
    {
      "cell_type": "code",
      "metadata": {
        "colab": {
          "base_uri": "https://localhost:8080/",
          "height": 419
        },
        "id": "kbi5uw9Ydg83",
        "outputId": "261edce4-636f-4a03-e688-35207c60e43d"
      },
      "source": [
        "# Splitting The Dataset Into Training and Testing Data\n",
        "\n",
        "train_data = df.iloc[:144,:]\n",
        "train_data"
      ],
      "execution_count": null,
      "outputs": [
        {
          "output_type": "execute_result",
          "data": {
            "text/html": [
              "<div>\n",
              "<style scoped>\n",
              "    .dataframe tbody tr th:only-of-type {\n",
              "        vertical-align: middle;\n",
              "    }\n",
              "\n",
              "    .dataframe tbody tr th {\n",
              "        vertical-align: top;\n",
              "    }\n",
              "\n",
              "    .dataframe thead th {\n",
              "        text-align: right;\n",
              "    }\n",
              "</style>\n",
              "<table border=\"1\" class=\"dataframe\">\n",
              "  <thead>\n",
              "    <tr style=\"text-align: right;\">\n",
              "      <th></th>\n",
              "      <th>fueltype</th>\n",
              "      <th>aspiration</th>\n",
              "      <th>doornumber</th>\n",
              "      <th>carbody</th>\n",
              "      <th>drivewheel</th>\n",
              "      <th>enginelocation</th>\n",
              "      <th>wheelbase</th>\n",
              "      <th>carlength</th>\n",
              "      <th>carwidth</th>\n",
              "      <th>carheight</th>\n",
              "      <th>curbweight</th>\n",
              "      <th>enginetype</th>\n",
              "      <th>cylindernumber</th>\n",
              "      <th>enginesize</th>\n",
              "      <th>fuelsystem</th>\n",
              "      <th>boreratio</th>\n",
              "      <th>stroke</th>\n",
              "      <th>compressionratio</th>\n",
              "      <th>horsepower</th>\n",
              "      <th>peakrpm</th>\n",
              "      <th>citympg</th>\n",
              "      <th>highwaympg</th>\n",
              "      <th>price</th>\n",
              "    </tr>\n",
              "  </thead>\n",
              "  <tbody>\n",
              "    <tr>\n",
              "      <th>100</th>\n",
              "      <td>1</td>\n",
              "      <td>0</td>\n",
              "      <td>0</td>\n",
              "      <td>3</td>\n",
              "      <td>1</td>\n",
              "      <td>0</td>\n",
              "      <td>97.2</td>\n",
              "      <td>173.4</td>\n",
              "      <td>65.2</td>\n",
              "      <td>54.7</td>\n",
              "      <td>2302</td>\n",
              "      <td>3</td>\n",
              "      <td>2</td>\n",
              "      <td>120</td>\n",
              "      <td>1</td>\n",
              "      <td>3.33</td>\n",
              "      <td>3.47</td>\n",
              "      <td>8.5</td>\n",
              "      <td>97</td>\n",
              "      <td>5200</td>\n",
              "      <td>27</td>\n",
              "      <td>34</td>\n",
              "      <td>9549.0</td>\n",
              "    </tr>\n",
              "    <tr>\n",
              "      <th>113</th>\n",
              "      <td>1</td>\n",
              "      <td>0</td>\n",
              "      <td>0</td>\n",
              "      <td>4</td>\n",
              "      <td>2</td>\n",
              "      <td>0</td>\n",
              "      <td>114.2</td>\n",
              "      <td>198.9</td>\n",
              "      <td>68.4</td>\n",
              "      <td>56.7</td>\n",
              "      <td>3285</td>\n",
              "      <td>2</td>\n",
              "      <td>2</td>\n",
              "      <td>120</td>\n",
              "      <td>5</td>\n",
              "      <td>3.46</td>\n",
              "      <td>2.19</td>\n",
              "      <td>8.4</td>\n",
              "      <td>95</td>\n",
              "      <td>5000</td>\n",
              "      <td>19</td>\n",
              "      <td>24</td>\n",
              "      <td>16695.0</td>\n",
              "    </tr>\n",
              "    <tr>\n",
              "      <th>63</th>\n",
              "      <td>0</td>\n",
              "      <td>0</td>\n",
              "      <td>0</td>\n",
              "      <td>3</td>\n",
              "      <td>1</td>\n",
              "      <td>0</td>\n",
              "      <td>98.8</td>\n",
              "      <td>177.8</td>\n",
              "      <td>66.5</td>\n",
              "      <td>55.5</td>\n",
              "      <td>2443</td>\n",
              "      <td>3</td>\n",
              "      <td>2</td>\n",
              "      <td>122</td>\n",
              "      <td>3</td>\n",
              "      <td>3.39</td>\n",
              "      <td>3.39</td>\n",
              "      <td>22.7</td>\n",
              "      <td>64</td>\n",
              "      <td>4650</td>\n",
              "      <td>36</td>\n",
              "      <td>42</td>\n",
              "      <td>10795.0</td>\n",
              "    </tr>\n",
              "    <tr>\n",
              "      <th>168</th>\n",
              "      <td>1</td>\n",
              "      <td>0</td>\n",
              "      <td>1</td>\n",
              "      <td>1</td>\n",
              "      <td>2</td>\n",
              "      <td>0</td>\n",
              "      <td>98.4</td>\n",
              "      <td>176.2</td>\n",
              "      <td>65.6</td>\n",
              "      <td>52.0</td>\n",
              "      <td>2536</td>\n",
              "      <td>3</td>\n",
              "      <td>2</td>\n",
              "      <td>146</td>\n",
              "      <td>5</td>\n",
              "      <td>3.62</td>\n",
              "      <td>3.50</td>\n",
              "      <td>9.3</td>\n",
              "      <td>116</td>\n",
              "      <td>4800</td>\n",
              "      <td>24</td>\n",
              "      <td>30</td>\n",
              "      <td>9639.0</td>\n",
              "    </tr>\n",
              "    <tr>\n",
              "      <th>53</th>\n",
              "      <td>1</td>\n",
              "      <td>0</td>\n",
              "      <td>0</td>\n",
              "      <td>3</td>\n",
              "      <td>1</td>\n",
              "      <td>0</td>\n",
              "      <td>93.1</td>\n",
              "      <td>166.8</td>\n",
              "      <td>64.2</td>\n",
              "      <td>54.1</td>\n",
              "      <td>1945</td>\n",
              "      <td>3</td>\n",
              "      <td>2</td>\n",
              "      <td>91</td>\n",
              "      <td>1</td>\n",
              "      <td>3.03</td>\n",
              "      <td>3.15</td>\n",
              "      <td>9.0</td>\n",
              "      <td>68</td>\n",
              "      <td>5000</td>\n",
              "      <td>31</td>\n",
              "      <td>38</td>\n",
              "      <td>6695.0</td>\n",
              "    </tr>\n",
              "    <tr>\n",
              "      <th>...</th>\n",
              "      <td>...</td>\n",
              "      <td>...</td>\n",
              "      <td>...</td>\n",
              "      <td>...</td>\n",
              "      <td>...</td>\n",
              "      <td>...</td>\n",
              "      <td>...</td>\n",
              "      <td>...</td>\n",
              "      <td>...</td>\n",
              "      <td>...</td>\n",
              "      <td>...</td>\n",
              "      <td>...</td>\n",
              "      <td>...</td>\n",
              "      <td>...</td>\n",
              "      <td>...</td>\n",
              "      <td>...</td>\n",
              "      <td>...</td>\n",
              "      <td>...</td>\n",
              "      <td>...</td>\n",
              "      <td>...</td>\n",
              "      <td>...</td>\n",
              "      <td>...</td>\n",
              "      <td>...</td>\n",
              "    </tr>\n",
              "    <tr>\n",
              "      <th>189</th>\n",
              "      <td>1</td>\n",
              "      <td>0</td>\n",
              "      <td>1</td>\n",
              "      <td>0</td>\n",
              "      <td>1</td>\n",
              "      <td>0</td>\n",
              "      <td>94.5</td>\n",
              "      <td>159.3</td>\n",
              "      <td>64.2</td>\n",
              "      <td>55.6</td>\n",
              "      <td>2254</td>\n",
              "      <td>3</td>\n",
              "      <td>2</td>\n",
              "      <td>109</td>\n",
              "      <td>5</td>\n",
              "      <td>3.19</td>\n",
              "      <td>3.40</td>\n",
              "      <td>8.5</td>\n",
              "      <td>90</td>\n",
              "      <td>5500</td>\n",
              "      <td>24</td>\n",
              "      <td>29</td>\n",
              "      <td>11595.0</td>\n",
              "    </tr>\n",
              "    <tr>\n",
              "      <th>111</th>\n",
              "      <td>1</td>\n",
              "      <td>0</td>\n",
              "      <td>0</td>\n",
              "      <td>3</td>\n",
              "      <td>2</td>\n",
              "      <td>0</td>\n",
              "      <td>107.9</td>\n",
              "      <td>186.7</td>\n",
              "      <td>68.4</td>\n",
              "      <td>56.7</td>\n",
              "      <td>3075</td>\n",
              "      <td>2</td>\n",
              "      <td>2</td>\n",
              "      <td>120</td>\n",
              "      <td>5</td>\n",
              "      <td>3.46</td>\n",
              "      <td>2.19</td>\n",
              "      <td>8.4</td>\n",
              "      <td>95</td>\n",
              "      <td>5000</td>\n",
              "      <td>19</td>\n",
              "      <td>24</td>\n",
              "      <td>15580.0</td>\n",
              "    </tr>\n",
              "    <tr>\n",
              "      <th>86</th>\n",
              "      <td>1</td>\n",
              "      <td>0</td>\n",
              "      <td>0</td>\n",
              "      <td>3</td>\n",
              "      <td>1</td>\n",
              "      <td>0</td>\n",
              "      <td>96.3</td>\n",
              "      <td>172.4</td>\n",
              "      <td>65.4</td>\n",
              "      <td>51.6</td>\n",
              "      <td>2405</td>\n",
              "      <td>3</td>\n",
              "      <td>2</td>\n",
              "      <td>122</td>\n",
              "      <td>1</td>\n",
              "      <td>3.35</td>\n",
              "      <td>3.46</td>\n",
              "      <td>8.5</td>\n",
              "      <td>88</td>\n",
              "      <td>5000</td>\n",
              "      <td>25</td>\n",
              "      <td>32</td>\n",
              "      <td>8189.0</td>\n",
              "    </tr>\n",
              "    <tr>\n",
              "      <th>101</th>\n",
              "      <td>1</td>\n",
              "      <td>0</td>\n",
              "      <td>0</td>\n",
              "      <td>3</td>\n",
              "      <td>1</td>\n",
              "      <td>0</td>\n",
              "      <td>100.4</td>\n",
              "      <td>181.7</td>\n",
              "      <td>66.5</td>\n",
              "      <td>55.1</td>\n",
              "      <td>3095</td>\n",
              "      <td>5</td>\n",
              "      <td>3</td>\n",
              "      <td>181</td>\n",
              "      <td>5</td>\n",
              "      <td>3.43</td>\n",
              "      <td>3.27</td>\n",
              "      <td>9.0</td>\n",
              "      <td>152</td>\n",
              "      <td>5200</td>\n",
              "      <td>17</td>\n",
              "      <td>22</td>\n",
              "      <td>13499.0</td>\n",
              "    </tr>\n",
              "    <tr>\n",
              "      <th>137</th>\n",
              "      <td>1</td>\n",
              "      <td>1</td>\n",
              "      <td>0</td>\n",
              "      <td>3</td>\n",
              "      <td>1</td>\n",
              "      <td>0</td>\n",
              "      <td>99.1</td>\n",
              "      <td>186.6</td>\n",
              "      <td>66.5</td>\n",
              "      <td>56.1</td>\n",
              "      <td>2847</td>\n",
              "      <td>0</td>\n",
              "      <td>2</td>\n",
              "      <td>121</td>\n",
              "      <td>5</td>\n",
              "      <td>3.54</td>\n",
              "      <td>3.07</td>\n",
              "      <td>9.0</td>\n",
              "      <td>160</td>\n",
              "      <td>5500</td>\n",
              "      <td>19</td>\n",
              "      <td>26</td>\n",
              "      <td>18620.0</td>\n",
              "    </tr>\n",
              "  </tbody>\n",
              "</table>\n",
              "<p>144 rows × 23 columns</p>\n",
              "</div>"
            ],
            "text/plain": [
              "     fueltype  aspiration  doornumber  ...  citympg  highwaympg    price\n",
              "100         1           0           0  ...       27          34   9549.0\n",
              "113         1           0           0  ...       19          24  16695.0\n",
              "63          0           0           0  ...       36          42  10795.0\n",
              "168         1           0           1  ...       24          30   9639.0\n",
              "53          1           0           0  ...       31          38   6695.0\n",
              "..        ...         ...         ...  ...      ...         ...      ...\n",
              "189         1           0           1  ...       24          29  11595.0\n",
              "111         1           0           0  ...       19          24  15580.0\n",
              "86          1           0           0  ...       25          32   8189.0\n",
              "101         1           0           0  ...       17          22  13499.0\n",
              "137         1           1           0  ...       19          26  18620.0\n",
              "\n",
              "[144 rows x 23 columns]"
            ]
          },
          "metadata": {
            "tags": []
          },
          "execution_count": 48
        }
      ]
    },
    {
      "cell_type": "code",
      "metadata": {
        "colab": {
          "base_uri": "https://localhost:8080/",
          "height": 204
        },
        "id": "UO9UMbR9edc5",
        "outputId": "df0c641f-5276-41cd-c2cd-6ba60212a469"
      },
      "source": [
        "test_data = df.iloc[145:,:]\n",
        "test_data.head()"
      ],
      "execution_count": null,
      "outputs": [
        {
          "output_type": "execute_result",
          "data": {
            "text/html": [
              "<div>\n",
              "<style scoped>\n",
              "    .dataframe tbody tr th:only-of-type {\n",
              "        vertical-align: middle;\n",
              "    }\n",
              "\n",
              "    .dataframe tbody tr th {\n",
              "        vertical-align: top;\n",
              "    }\n",
              "\n",
              "    .dataframe thead th {\n",
              "        text-align: right;\n",
              "    }\n",
              "</style>\n",
              "<table border=\"1\" class=\"dataframe\">\n",
              "  <thead>\n",
              "    <tr style=\"text-align: right;\">\n",
              "      <th></th>\n",
              "      <th>fueltype</th>\n",
              "      <th>aspiration</th>\n",
              "      <th>doornumber</th>\n",
              "      <th>carbody</th>\n",
              "      <th>drivewheel</th>\n",
              "      <th>enginelocation</th>\n",
              "      <th>wheelbase</th>\n",
              "      <th>carlength</th>\n",
              "      <th>carwidth</th>\n",
              "      <th>carheight</th>\n",
              "      <th>curbweight</th>\n",
              "      <th>enginetype</th>\n",
              "      <th>cylindernumber</th>\n",
              "      <th>enginesize</th>\n",
              "      <th>fuelsystem</th>\n",
              "      <th>boreratio</th>\n",
              "      <th>stroke</th>\n",
              "      <th>compressionratio</th>\n",
              "      <th>horsepower</th>\n",
              "      <th>peakrpm</th>\n",
              "      <th>citympg</th>\n",
              "      <th>highwaympg</th>\n",
              "      <th>price</th>\n",
              "    </tr>\n",
              "  </thead>\n",
              "  <tbody>\n",
              "    <tr>\n",
              "      <th>43</th>\n",
              "      <td>1</td>\n",
              "      <td>0</td>\n",
              "      <td>0</td>\n",
              "      <td>3</td>\n",
              "      <td>2</td>\n",
              "      <td>0</td>\n",
              "      <td>94.3</td>\n",
              "      <td>170.7</td>\n",
              "      <td>61.8</td>\n",
              "      <td>53.5</td>\n",
              "      <td>2337</td>\n",
              "      <td>3</td>\n",
              "      <td>2</td>\n",
              "      <td>111</td>\n",
              "      <td>1</td>\n",
              "      <td>3.31</td>\n",
              "      <td>3.23</td>\n",
              "      <td>8.5</td>\n",
              "      <td>78</td>\n",
              "      <td>4800</td>\n",
              "      <td>24</td>\n",
              "      <td>29</td>\n",
              "      <td>6785.0</td>\n",
              "    </tr>\n",
              "    <tr>\n",
              "      <th>97</th>\n",
              "      <td>1</td>\n",
              "      <td>0</td>\n",
              "      <td>0</td>\n",
              "      <td>4</td>\n",
              "      <td>1</td>\n",
              "      <td>0</td>\n",
              "      <td>94.5</td>\n",
              "      <td>170.2</td>\n",
              "      <td>63.8</td>\n",
              "      <td>53.5</td>\n",
              "      <td>2037</td>\n",
              "      <td>3</td>\n",
              "      <td>2</td>\n",
              "      <td>97</td>\n",
              "      <td>1</td>\n",
              "      <td>3.15</td>\n",
              "      <td>3.29</td>\n",
              "      <td>9.4</td>\n",
              "      <td>69</td>\n",
              "      <td>5200</td>\n",
              "      <td>31</td>\n",
              "      <td>37</td>\n",
              "      <td>7999.0</td>\n",
              "    </tr>\n",
              "    <tr>\n",
              "      <th>54</th>\n",
              "      <td>1</td>\n",
              "      <td>0</td>\n",
              "      <td>0</td>\n",
              "      <td>3</td>\n",
              "      <td>1</td>\n",
              "      <td>0</td>\n",
              "      <td>93.1</td>\n",
              "      <td>166.8</td>\n",
              "      <td>64.2</td>\n",
              "      <td>54.1</td>\n",
              "      <td>1950</td>\n",
              "      <td>3</td>\n",
              "      <td>2</td>\n",
              "      <td>91</td>\n",
              "      <td>1</td>\n",
              "      <td>3.08</td>\n",
              "      <td>3.15</td>\n",
              "      <td>9.0</td>\n",
              "      <td>68</td>\n",
              "      <td>5000</td>\n",
              "      <td>31</td>\n",
              "      <td>38</td>\n",
              "      <td>7395.0</td>\n",
              "    </tr>\n",
              "    <tr>\n",
              "      <th>153</th>\n",
              "      <td>1</td>\n",
              "      <td>0</td>\n",
              "      <td>0</td>\n",
              "      <td>4</td>\n",
              "      <td>1</td>\n",
              "      <td>0</td>\n",
              "      <td>95.7</td>\n",
              "      <td>169.7</td>\n",
              "      <td>63.6</td>\n",
              "      <td>59.1</td>\n",
              "      <td>2280</td>\n",
              "      <td>3</td>\n",
              "      <td>2</td>\n",
              "      <td>92</td>\n",
              "      <td>1</td>\n",
              "      <td>3.05</td>\n",
              "      <td>3.03</td>\n",
              "      <td>9.0</td>\n",
              "      <td>62</td>\n",
              "      <td>4800</td>\n",
              "      <td>31</td>\n",
              "      <td>37</td>\n",
              "      <td>6918.0</td>\n",
              "    </tr>\n",
              "    <tr>\n",
              "      <th>117</th>\n",
              "      <td>1</td>\n",
              "      <td>1</td>\n",
              "      <td>0</td>\n",
              "      <td>3</td>\n",
              "      <td>2</td>\n",
              "      <td>0</td>\n",
              "      <td>108.0</td>\n",
              "      <td>186.7</td>\n",
              "      <td>68.3</td>\n",
              "      <td>56.0</td>\n",
              "      <td>3130</td>\n",
              "      <td>2</td>\n",
              "      <td>2</td>\n",
              "      <td>134</td>\n",
              "      <td>5</td>\n",
              "      <td>3.61</td>\n",
              "      <td>3.21</td>\n",
              "      <td>7.0</td>\n",
              "      <td>142</td>\n",
              "      <td>5600</td>\n",
              "      <td>18</td>\n",
              "      <td>24</td>\n",
              "      <td>18150.0</td>\n",
              "    </tr>\n",
              "  </tbody>\n",
              "</table>\n",
              "</div>"
            ],
            "text/plain": [
              "     fueltype  aspiration  doornumber  ...  citympg  highwaympg    price\n",
              "43          1           0           0  ...       24          29   6785.0\n",
              "97          1           0           0  ...       31          37   7999.0\n",
              "54          1           0           0  ...       31          38   7395.0\n",
              "153         1           0           0  ...       31          37   6918.0\n",
              "117         1           1           0  ...       18          24  18150.0\n",
              "\n",
              "[5 rows x 23 columns]"
            ]
          },
          "metadata": {
            "tags": []
          },
          "execution_count": 49
        }
      ]
    },
    {
      "cell_type": "code",
      "metadata": {
        "id": "TsTpsUZDetti"
      },
      "source": [
        "# Separating Labels From Train And Test Data\n",
        "\n",
        "copy_of_train_data = train_data.copy()\n",
        "copy_of_test_data = test_data.copy()\n",
        "train_labels = train_data.pop('price')\n",
        "test_labels = test_data.pop('price')"
      ],
      "execution_count": null,
      "outputs": []
    },
    {
      "cell_type": "code",
      "metadata": {
        "colab": {
          "base_uri": "https://localhost:8080/",
          "height": 731
        },
        "id": "OAldnthNmAa6",
        "outputId": "53ba5630-b84d-452b-badc-d36ff9b01399"
      },
      "source": [
        "train_data.describe().T"
      ],
      "execution_count": null,
      "outputs": [
        {
          "output_type": "execute_result",
          "data": {
            "text/html": [
              "<div>\n",
              "<style scoped>\n",
              "    .dataframe tbody tr th:only-of-type {\n",
              "        vertical-align: middle;\n",
              "    }\n",
              "\n",
              "    .dataframe tbody tr th {\n",
              "        vertical-align: top;\n",
              "    }\n",
              "\n",
              "    .dataframe thead th {\n",
              "        text-align: right;\n",
              "    }\n",
              "</style>\n",
              "<table border=\"1\" class=\"dataframe\">\n",
              "  <thead>\n",
              "    <tr style=\"text-align: right;\">\n",
              "      <th></th>\n",
              "      <th>count</th>\n",
              "      <th>mean</th>\n",
              "      <th>std</th>\n",
              "      <th>min</th>\n",
              "      <th>25%</th>\n",
              "      <th>50%</th>\n",
              "      <th>75%</th>\n",
              "      <th>max</th>\n",
              "    </tr>\n",
              "  </thead>\n",
              "  <tbody>\n",
              "    <tr>\n",
              "      <th>fueltype</th>\n",
              "      <td>144.0</td>\n",
              "      <td>0.902778</td>\n",
              "      <td>0.297294</td>\n",
              "      <td>0.00</td>\n",
              "      <td>1.0000</td>\n",
              "      <td>1.00</td>\n",
              "      <td>1.0000</td>\n",
              "      <td>1.00</td>\n",
              "    </tr>\n",
              "    <tr>\n",
              "      <th>aspiration</th>\n",
              "      <td>144.0</td>\n",
              "      <td>0.152778</td>\n",
              "      <td>0.361029</td>\n",
              "      <td>0.00</td>\n",
              "      <td>0.0000</td>\n",
              "      <td>0.00</td>\n",
              "      <td>0.0000</td>\n",
              "      <td>1.00</td>\n",
              "    </tr>\n",
              "    <tr>\n",
              "      <th>doornumber</th>\n",
              "      <td>144.0</td>\n",
              "      <td>0.409722</td>\n",
              "      <td>0.493499</td>\n",
              "      <td>0.00</td>\n",
              "      <td>0.0000</td>\n",
              "      <td>0.00</td>\n",
              "      <td>1.0000</td>\n",
              "      <td>1.00</td>\n",
              "    </tr>\n",
              "    <tr>\n",
              "      <th>carbody</th>\n",
              "      <td>144.0</td>\n",
              "      <td>2.694444</td>\n",
              "      <td>0.768959</td>\n",
              "      <td>0.00</td>\n",
              "      <td>2.0000</td>\n",
              "      <td>3.00</td>\n",
              "      <td>3.0000</td>\n",
              "      <td>4.00</td>\n",
              "    </tr>\n",
              "    <tr>\n",
              "      <th>drivewheel</th>\n",
              "      <td>144.0</td>\n",
              "      <td>1.305556</td>\n",
              "      <td>0.570582</td>\n",
              "      <td>0.00</td>\n",
              "      <td>1.0000</td>\n",
              "      <td>1.00</td>\n",
              "      <td>2.0000</td>\n",
              "      <td>2.00</td>\n",
              "    </tr>\n",
              "    <tr>\n",
              "      <th>enginelocation</th>\n",
              "      <td>144.0</td>\n",
              "      <td>0.006944</td>\n",
              "      <td>0.083333</td>\n",
              "      <td>0.00</td>\n",
              "      <td>0.0000</td>\n",
              "      <td>0.00</td>\n",
              "      <td>0.0000</td>\n",
              "      <td>1.00</td>\n",
              "    </tr>\n",
              "    <tr>\n",
              "      <th>wheelbase</th>\n",
              "      <td>144.0</td>\n",
              "      <td>99.264583</td>\n",
              "      <td>6.051290</td>\n",
              "      <td>88.40</td>\n",
              "      <td>94.5000</td>\n",
              "      <td>97.20</td>\n",
              "      <td>102.4000</td>\n",
              "      <td>120.90</td>\n",
              "    </tr>\n",
              "    <tr>\n",
              "      <th>carlength</th>\n",
              "      <td>144.0</td>\n",
              "      <td>174.886806</td>\n",
              "      <td>12.672928</td>\n",
              "      <td>141.10</td>\n",
              "      <td>166.3000</td>\n",
              "      <td>173.55</td>\n",
              "      <td>184.6000</td>\n",
              "      <td>208.10</td>\n",
              "    </tr>\n",
              "    <tr>\n",
              "      <th>carwidth</th>\n",
              "      <td>144.0</td>\n",
              "      <td>66.095833</td>\n",
              "      <td>2.277708</td>\n",
              "      <td>60.30</td>\n",
              "      <td>64.2000</td>\n",
              "      <td>65.60</td>\n",
              "      <td>67.2000</td>\n",
              "      <td>72.30</td>\n",
              "    </tr>\n",
              "    <tr>\n",
              "      <th>carheight</th>\n",
              "      <td>144.0</td>\n",
              "      <td>53.846528</td>\n",
              "      <td>2.294960</td>\n",
              "      <td>47.80</td>\n",
              "      <td>52.0000</td>\n",
              "      <td>54.30</td>\n",
              "      <td>55.5000</td>\n",
              "      <td>59.80</td>\n",
              "    </tr>\n",
              "    <tr>\n",
              "      <th>curbweight</th>\n",
              "      <td>144.0</td>\n",
              "      <td>2575.708333</td>\n",
              "      <td>535.757811</td>\n",
              "      <td>1488.00</td>\n",
              "      <td>2190.7500</td>\n",
              "      <td>2422.50</td>\n",
              "      <td>2952.5000</td>\n",
              "      <td>4066.00</td>\n",
              "    </tr>\n",
              "    <tr>\n",
              "      <th>enginetype</th>\n",
              "      <td>144.0</td>\n",
              "      <td>3.125000</td>\n",
              "      <td>1.023329</td>\n",
              "      <td>0.00</td>\n",
              "      <td>3.0000</td>\n",
              "      <td>3.00</td>\n",
              "      <td>3.0000</td>\n",
              "      <td>6.00</td>\n",
              "    </tr>\n",
              "    <tr>\n",
              "      <th>cylindernumber</th>\n",
              "      <td>144.0</td>\n",
              "      <td>2.104167</td>\n",
              "      <td>0.858676</td>\n",
              "      <td>0.00</td>\n",
              "      <td>2.0000</td>\n",
              "      <td>2.00</td>\n",
              "      <td>2.0000</td>\n",
              "      <td>6.00</td>\n",
              "    </tr>\n",
              "    <tr>\n",
              "      <th>enginesize</th>\n",
              "      <td>144.0</td>\n",
              "      <td>129.048611</td>\n",
              "      <td>45.508522</td>\n",
              "      <td>61.00</td>\n",
              "      <td>98.0000</td>\n",
              "      <td>114.50</td>\n",
              "      <td>141.0000</td>\n",
              "      <td>326.00</td>\n",
              "    </tr>\n",
              "    <tr>\n",
              "      <th>fuelsystem</th>\n",
              "      <td>144.0</td>\n",
              "      <td>3.340278</td>\n",
              "      <td>1.972408</td>\n",
              "      <td>0.00</td>\n",
              "      <td>1.0000</td>\n",
              "      <td>5.00</td>\n",
              "      <td>5.0000</td>\n",
              "      <td>7.00</td>\n",
              "    </tr>\n",
              "    <tr>\n",
              "      <th>boreratio</th>\n",
              "      <td>144.0</td>\n",
              "      <td>3.344444</td>\n",
              "      <td>0.271597</td>\n",
              "      <td>2.54</td>\n",
              "      <td>3.1500</td>\n",
              "      <td>3.33</td>\n",
              "      <td>3.5925</td>\n",
              "      <td>3.94</td>\n",
              "    </tr>\n",
              "    <tr>\n",
              "      <th>stroke</th>\n",
              "      <td>144.0</td>\n",
              "      <td>3.234826</td>\n",
              "      <td>0.331845</td>\n",
              "      <td>2.07</td>\n",
              "      <td>3.1075</td>\n",
              "      <td>3.27</td>\n",
              "      <td>3.4000</td>\n",
              "      <td>4.17</td>\n",
              "    </tr>\n",
              "    <tr>\n",
              "      <th>compressionratio</th>\n",
              "      <td>144.0</td>\n",
              "      <td>10.178542</td>\n",
              "      <td>4.026039</td>\n",
              "      <td>7.00</td>\n",
              "      <td>8.5000</td>\n",
              "      <td>9.00</td>\n",
              "      <td>9.4000</td>\n",
              "      <td>23.00</td>\n",
              "    </tr>\n",
              "    <tr>\n",
              "      <th>horsepower</th>\n",
              "      <td>144.0</td>\n",
              "      <td>105.173611</td>\n",
              "      <td>41.161515</td>\n",
              "      <td>48.00</td>\n",
              "      <td>70.0000</td>\n",
              "      <td>97.00</td>\n",
              "      <td>116.0000</td>\n",
              "      <td>288.00</td>\n",
              "    </tr>\n",
              "    <tr>\n",
              "      <th>peakrpm</th>\n",
              "      <td>144.0</td>\n",
              "      <td>5143.402778</td>\n",
              "      <td>448.706242</td>\n",
              "      <td>4150.00</td>\n",
              "      <td>4800.0000</td>\n",
              "      <td>5200.00</td>\n",
              "      <td>5500.0000</td>\n",
              "      <td>6600.00</td>\n",
              "    </tr>\n",
              "    <tr>\n",
              "      <th>citympg</th>\n",
              "      <td>144.0</td>\n",
              "      <td>25.034722</td>\n",
              "      <td>6.762105</td>\n",
              "      <td>13.00</td>\n",
              "      <td>19.0000</td>\n",
              "      <td>24.00</td>\n",
              "      <td>30.0000</td>\n",
              "      <td>47.00</td>\n",
              "    </tr>\n",
              "    <tr>\n",
              "      <th>highwaympg</th>\n",
              "      <td>144.0</td>\n",
              "      <td>30.493056</td>\n",
              "      <td>7.234336</td>\n",
              "      <td>16.00</td>\n",
              "      <td>25.0000</td>\n",
              "      <td>30.00</td>\n",
              "      <td>34.5000</td>\n",
              "      <td>53.00</td>\n",
              "    </tr>\n",
              "  </tbody>\n",
              "</table>\n",
              "</div>"
            ],
            "text/plain": [
              "                  count         mean         std  ...      50%        75%      max\n",
              "fueltype          144.0     0.902778    0.297294  ...     1.00     1.0000     1.00\n",
              "aspiration        144.0     0.152778    0.361029  ...     0.00     0.0000     1.00\n",
              "doornumber        144.0     0.409722    0.493499  ...     0.00     1.0000     1.00\n",
              "carbody           144.0     2.694444    0.768959  ...     3.00     3.0000     4.00\n",
              "drivewheel        144.0     1.305556    0.570582  ...     1.00     2.0000     2.00\n",
              "enginelocation    144.0     0.006944    0.083333  ...     0.00     0.0000     1.00\n",
              "wheelbase         144.0    99.264583    6.051290  ...    97.20   102.4000   120.90\n",
              "carlength         144.0   174.886806   12.672928  ...   173.55   184.6000   208.10\n",
              "carwidth          144.0    66.095833    2.277708  ...    65.60    67.2000    72.30\n",
              "carheight         144.0    53.846528    2.294960  ...    54.30    55.5000    59.80\n",
              "curbweight        144.0  2575.708333  535.757811  ...  2422.50  2952.5000  4066.00\n",
              "enginetype        144.0     3.125000    1.023329  ...     3.00     3.0000     6.00\n",
              "cylindernumber    144.0     2.104167    0.858676  ...     2.00     2.0000     6.00\n",
              "enginesize        144.0   129.048611   45.508522  ...   114.50   141.0000   326.00\n",
              "fuelsystem        144.0     3.340278    1.972408  ...     5.00     5.0000     7.00\n",
              "boreratio         144.0     3.344444    0.271597  ...     3.33     3.5925     3.94\n",
              "stroke            144.0     3.234826    0.331845  ...     3.27     3.4000     4.17\n",
              "compressionratio  144.0    10.178542    4.026039  ...     9.00     9.4000    23.00\n",
              "horsepower        144.0   105.173611   41.161515  ...    97.00   116.0000   288.00\n",
              "peakrpm           144.0  5143.402778  448.706242  ...  5200.00  5500.0000  6600.00\n",
              "citympg           144.0    25.034722    6.762105  ...    24.00    30.0000    47.00\n",
              "highwaympg        144.0    30.493056    7.234336  ...    30.00    34.5000    53.00\n",
              "\n",
              "[22 rows x 8 columns]"
            ]
          },
          "metadata": {
            "tags": []
          },
          "execution_count": 51
        }
      ]
    },
    {
      "cell_type": "code",
      "metadata": {
        "id": "KB76g8keisNY"
      },
      "source": [
        "# Noramalizing The Data \n",
        "\n",
        "# Finding Mean \n",
        "train_mean = np.mean(train_data, axis=0)\n",
        "# Finding Standard Deviation\n",
        "train_std = np.std(train_data, axis=0)\n",
        "# Formula Used : Data - Mean / Standard Deviation\n",
        "train_data = (train_data-train_mean) / train_std\n",
        "test_data = (test_data-train_mean) / train_std"
      ],
      "execution_count": null,
      "outputs": []
    },
    {
      "cell_type": "code",
      "metadata": {
        "colab": {
          "base_uri": "https://localhost:8080/",
          "height": 204
        },
        "id": "XShaOIn_kKJ_",
        "outputId": "20db4e5d-9af4-454a-9d42-148812397c9e"
      },
      "source": [
        "# Checking Normalize Test Data\n",
        "\n",
        "train_data.head()"
      ],
      "execution_count": null,
      "outputs": [
        {
          "output_type": "execute_result",
          "data": {
            "text/html": [
              "<div>\n",
              "<style scoped>\n",
              "    .dataframe tbody tr th:only-of-type {\n",
              "        vertical-align: middle;\n",
              "    }\n",
              "\n",
              "    .dataframe tbody tr th {\n",
              "        vertical-align: top;\n",
              "    }\n",
              "\n",
              "    .dataframe thead th {\n",
              "        text-align: right;\n",
              "    }\n",
              "</style>\n",
              "<table border=\"1\" class=\"dataframe\">\n",
              "  <thead>\n",
              "    <tr style=\"text-align: right;\">\n",
              "      <th></th>\n",
              "      <th>fueltype</th>\n",
              "      <th>aspiration</th>\n",
              "      <th>doornumber</th>\n",
              "      <th>carbody</th>\n",
              "      <th>drivewheel</th>\n",
              "      <th>enginelocation</th>\n",
              "      <th>wheelbase</th>\n",
              "      <th>carlength</th>\n",
              "      <th>carwidth</th>\n",
              "      <th>carheight</th>\n",
              "      <th>curbweight</th>\n",
              "      <th>enginetype</th>\n",
              "      <th>cylindernumber</th>\n",
              "      <th>enginesize</th>\n",
              "      <th>fuelsystem</th>\n",
              "      <th>boreratio</th>\n",
              "      <th>stroke</th>\n",
              "      <th>compressionratio</th>\n",
              "      <th>horsepower</th>\n",
              "      <th>peakrpm</th>\n",
              "      <th>citympg</th>\n",
              "      <th>highwaympg</th>\n",
              "    </tr>\n",
              "  </thead>\n",
              "  <tbody>\n",
              "    <tr>\n",
              "      <th>100</th>\n",
              "      <td>0.328165</td>\n",
              "      <td>-0.42465</td>\n",
              "      <td>-0.833137</td>\n",
              "      <td>0.398750</td>\n",
              "      <td>-0.537385</td>\n",
              "      <td>-0.083624</td>\n",
              "      <td>-0.342372</td>\n",
              "      <td>-0.117731</td>\n",
              "      <td>-0.394677</td>\n",
              "      <td>0.373188</td>\n",
              "      <td>-0.512664</td>\n",
              "      <td>-0.122577</td>\n",
              "      <td>-0.121734</td>\n",
              "      <td>-0.199527</td>\n",
              "      <td>-1.190649</td>\n",
              "      <td>-0.053369</td>\n",
              "      <td>0.711159</td>\n",
              "      <td>-0.418377</td>\n",
              "      <td>-0.199267</td>\n",
              "      <td>0.126575</td>\n",
              "      <td>0.291646</td>\n",
              "      <td>0.486456</td>\n",
              "    </tr>\n",
              "    <tr>\n",
              "      <th>113</th>\n",
              "      <td>0.328165</td>\n",
              "      <td>-0.42465</td>\n",
              "      <td>-0.833137</td>\n",
              "      <td>1.703749</td>\n",
              "      <td>1.221330</td>\n",
              "      <td>-0.083624</td>\n",
              "      <td>2.476753</td>\n",
              "      <td>1.901456</td>\n",
              "      <td>1.015147</td>\n",
              "      <td>1.247705</td>\n",
              "      <td>1.328525</td>\n",
              "      <td>-1.103190</td>\n",
              "      <td>-0.121734</td>\n",
              "      <td>-0.199527</td>\n",
              "      <td>0.844407</td>\n",
              "      <td>0.426953</td>\n",
              "      <td>-3.159527</td>\n",
              "      <td>-0.443302</td>\n",
              "      <td>-0.248026</td>\n",
              "      <td>-0.320707</td>\n",
              "      <td>-0.895548</td>\n",
              "      <td>-0.900666</td>\n",
              "    </tr>\n",
              "    <tr>\n",
              "      <th>63</th>\n",
              "      <td>-3.047247</td>\n",
              "      <td>-0.42465</td>\n",
              "      <td>-0.833137</td>\n",
              "      <td>0.398750</td>\n",
              "      <td>-0.537385</td>\n",
              "      <td>-0.083624</td>\n",
              "      <td>-0.077042</td>\n",
              "      <td>0.230678</td>\n",
              "      <td>0.178064</td>\n",
              "      <td>0.722995</td>\n",
              "      <td>-0.248567</td>\n",
              "      <td>-0.122577</td>\n",
              "      <td>-0.121734</td>\n",
              "      <td>-0.155426</td>\n",
              "      <td>-0.173121</td>\n",
              "      <td>0.168318</td>\n",
              "      <td>0.469241</td>\n",
              "      <td>3.120974</td>\n",
              "      <td>-1.003785</td>\n",
              "      <td>-1.103450</td>\n",
              "      <td>1.627238</td>\n",
              "      <td>1.596153</td>\n",
              "    </tr>\n",
              "    <tr>\n",
              "      <th>168</th>\n",
              "      <td>0.328165</td>\n",
              "      <td>-0.42465</td>\n",
              "      <td>1.200282</td>\n",
              "      <td>-2.211248</td>\n",
              "      <td>1.221330</td>\n",
              "      <td>-0.083624</td>\n",
              "      <td>-0.143375</td>\n",
              "      <td>0.103984</td>\n",
              "      <td>-0.218449</td>\n",
              "      <td>-0.807410</td>\n",
              "      <td>-0.074375</td>\n",
              "      <td>-0.122577</td>\n",
              "      <td>-0.121734</td>\n",
              "      <td>0.373788</td>\n",
              "      <td>0.844407</td>\n",
              "      <td>1.018118</td>\n",
              "      <td>0.801878</td>\n",
              "      <td>-0.218977</td>\n",
              "      <td>0.263940</td>\n",
              "      <td>-0.767989</td>\n",
              "      <td>-0.153552</td>\n",
              "      <td>-0.068393</td>\n",
              "    </tr>\n",
              "    <tr>\n",
              "      <th>53</th>\n",
              "      <td>0.328165</td>\n",
              "      <td>-0.42465</td>\n",
              "      <td>-0.833137</td>\n",
              "      <td>0.398750</td>\n",
              "      <td>-0.537385</td>\n",
              "      <td>-0.083624</td>\n",
              "      <td>-1.022278</td>\n",
              "      <td>-0.640344</td>\n",
              "      <td>-0.835248</td>\n",
              "      <td>0.110833</td>\n",
              "      <td>-1.181336</td>\n",
              "      <td>-0.122577</td>\n",
              "      <td>-0.121734</td>\n",
              "      <td>-0.838995</td>\n",
              "      <td>-1.190649</td>\n",
              "      <td>-1.161804</td>\n",
              "      <td>-0.256513</td>\n",
              "      <td>-0.293752</td>\n",
              "      <td>-0.906268</td>\n",
              "      <td>-0.320707</td>\n",
              "      <td>0.885242</td>\n",
              "      <td>1.041305</td>\n",
              "    </tr>\n",
              "  </tbody>\n",
              "</table>\n",
              "</div>"
            ],
            "text/plain": [
              "     fueltype  aspiration  doornumber  ...   peakrpm   citympg  highwaympg\n",
              "100  0.328165    -0.42465   -0.833137  ...  0.126575  0.291646    0.486456\n",
              "113  0.328165    -0.42465   -0.833137  ... -0.320707 -0.895548   -0.900666\n",
              "63  -3.047247    -0.42465   -0.833137  ... -1.103450  1.627238    1.596153\n",
              "168  0.328165    -0.42465    1.200282  ... -0.767989 -0.153552   -0.068393\n",
              "53   0.328165    -0.42465   -0.833137  ... -0.320707  0.885242    1.041305\n",
              "\n",
              "[5 rows x 22 columns]"
            ]
          },
          "metadata": {
            "tags": []
          },
          "execution_count": 53
        }
      ]
    },
    {
      "cell_type": "code",
      "metadata": {
        "colab": {
          "base_uri": "https://localhost:8080/",
          "height": 204
        },
        "id": "_HURR6RqEu-m",
        "outputId": "32775478-1285-43b1-8ee6-acc7b765d7db"
      },
      "source": [
        "test_data.tail()"
      ],
      "execution_count": null,
      "outputs": [
        {
          "output_type": "execute_result",
          "data": {
            "text/html": [
              "<div>\n",
              "<style scoped>\n",
              "    .dataframe tbody tr th:only-of-type {\n",
              "        vertical-align: middle;\n",
              "    }\n",
              "\n",
              "    .dataframe tbody tr th {\n",
              "        vertical-align: top;\n",
              "    }\n",
              "\n",
              "    .dataframe thead th {\n",
              "        text-align: right;\n",
              "    }\n",
              "</style>\n",
              "<table border=\"1\" class=\"dataframe\">\n",
              "  <thead>\n",
              "    <tr style=\"text-align: right;\">\n",
              "      <th></th>\n",
              "      <th>fueltype</th>\n",
              "      <th>aspiration</th>\n",
              "      <th>doornumber</th>\n",
              "      <th>carbody</th>\n",
              "      <th>drivewheel</th>\n",
              "      <th>enginelocation</th>\n",
              "      <th>wheelbase</th>\n",
              "      <th>carlength</th>\n",
              "      <th>carwidth</th>\n",
              "      <th>carheight</th>\n",
              "      <th>curbweight</th>\n",
              "      <th>enginetype</th>\n",
              "      <th>cylindernumber</th>\n",
              "      <th>enginesize</th>\n",
              "      <th>fuelsystem</th>\n",
              "      <th>boreratio</th>\n",
              "      <th>stroke</th>\n",
              "      <th>compressionratio</th>\n",
              "      <th>horsepower</th>\n",
              "      <th>peakrpm</th>\n",
              "      <th>citympg</th>\n",
              "      <th>highwaympg</th>\n",
              "    </tr>\n",
              "  </thead>\n",
              "  <tbody>\n",
              "    <tr>\n",
              "      <th>22</th>\n",
              "      <td>0.328165</td>\n",
              "      <td>-0.424650</td>\n",
              "      <td>1.200282</td>\n",
              "      <td>-0.906249</td>\n",
              "      <td>-0.537385</td>\n",
              "      <td>-0.083624</td>\n",
              "      <td>-0.922779</td>\n",
              "      <td>-1.392590</td>\n",
              "      <td>-1.011476</td>\n",
              "      <td>-1.332120</td>\n",
              "      <td>-1.310575</td>\n",
              "      <td>-0.122577</td>\n",
              "      <td>-0.121734</td>\n",
              "      <td>-0.861045</td>\n",
              "      <td>-1.190649</td>\n",
              "      <td>-1.383491</td>\n",
              "      <td>-0.014595</td>\n",
              "      <td>-0.194052</td>\n",
              "      <td>-0.906268</td>\n",
              "      <td>0.797497</td>\n",
              "      <td>0.885242</td>\n",
              "      <td>1.041305</td>\n",
              "    </tr>\n",
              "    <tr>\n",
              "      <th>30</th>\n",
              "      <td>0.328165</td>\n",
              "      <td>-0.424650</td>\n",
              "      <td>1.200282</td>\n",
              "      <td>-0.906249</td>\n",
              "      <td>-0.537385</td>\n",
              "      <td>-0.083624</td>\n",
              "      <td>-2.100178</td>\n",
              "      <td>-2.398224</td>\n",
              "      <td>-0.967419</td>\n",
              "      <td>-1.332120</td>\n",
              "      <td>-1.615879</td>\n",
              "      <td>-0.122577</td>\n",
              "      <td>-0.121734</td>\n",
              "      <td>-0.816944</td>\n",
              "      <td>-1.699413</td>\n",
              "      <td>-1.605178</td>\n",
              "      <td>0.529720</td>\n",
              "      <td>-0.144202</td>\n",
              "      <td>-1.150061</td>\n",
              "      <td>-0.767989</td>\n",
              "      <td>3.556426</td>\n",
              "      <td>3.260699</td>\n",
              "    </tr>\n",
              "    <tr>\n",
              "      <th>84</th>\n",
              "      <td>0.328165</td>\n",
              "      <td>2.354879</td>\n",
              "      <td>1.200282</td>\n",
              "      <td>-0.906249</td>\n",
              "      <td>-0.537385</td>\n",
              "      <td>-0.083624</td>\n",
              "      <td>-0.557952</td>\n",
              "      <td>-0.133568</td>\n",
              "      <td>0.089950</td>\n",
              "      <td>-1.594475</td>\n",
              "      <td>0.656107</td>\n",
              "      <td>-0.122577</td>\n",
              "      <td>-0.121734</td>\n",
              "      <td>0.594294</td>\n",
              "      <td>1.353171</td>\n",
              "      <td>0.907274</td>\n",
              "      <td>1.890508</td>\n",
              "      <td>-0.792252</td>\n",
              "      <td>0.970941</td>\n",
              "      <td>-0.320707</td>\n",
              "      <td>-0.895548</td>\n",
              "      <td>-0.900666</td>\n",
              "    </tr>\n",
              "    <tr>\n",
              "      <th>170</th>\n",
              "      <td>0.328165</td>\n",
              "      <td>-0.424650</td>\n",
              "      <td>1.200282</td>\n",
              "      <td>-2.211248</td>\n",
              "      <td>1.221330</td>\n",
              "      <td>-0.083624</td>\n",
              "      <td>-0.143375</td>\n",
              "      <td>0.103984</td>\n",
              "      <td>-0.218449</td>\n",
              "      <td>-0.807410</td>\n",
              "      <td>0.193468</td>\n",
              "      <td>-0.122577</td>\n",
              "      <td>-0.121734</td>\n",
              "      <td>0.373788</td>\n",
              "      <td>0.844407</td>\n",
              "      <td>1.018118</td>\n",
              "      <td>0.801878</td>\n",
              "      <td>-0.218977</td>\n",
              "      <td>0.263940</td>\n",
              "      <td>-0.767989</td>\n",
              "      <td>-0.153552</td>\n",
              "      <td>-0.068393</td>\n",
              "    </tr>\n",
              "    <tr>\n",
              "      <th>69</th>\n",
              "      <td>-3.047247</td>\n",
              "      <td>2.354879</td>\n",
              "      <td>1.200282</td>\n",
              "      <td>-2.211248</td>\n",
              "      <td>1.221330</td>\n",
              "      <td>-0.083624</td>\n",
              "      <td>1.233021</td>\n",
              "      <td>0.998760</td>\n",
              "      <td>1.852231</td>\n",
              "      <td>0.460640</td>\n",
              "      <td>1.721861</td>\n",
              "      <td>-0.122577</td>\n",
              "      <td>-1.290382</td>\n",
              "      <td>1.189661</td>\n",
              "      <td>-0.173121</td>\n",
              "      <td>0.870327</td>\n",
              "      <td>1.225234</td>\n",
              "      <td>2.821874</td>\n",
              "      <td>0.434596</td>\n",
              "      <td>-1.774373</td>\n",
              "      <td>-0.450350</td>\n",
              "      <td>-0.761954</td>\n",
              "    </tr>\n",
              "  </tbody>\n",
              "</table>\n",
              "</div>"
            ],
            "text/plain": [
              "     fueltype  aspiration  doornumber  ...   peakrpm   citympg  highwaympg\n",
              "22   0.328165   -0.424650    1.200282  ...  0.797497  0.885242    1.041305\n",
              "30   0.328165   -0.424650    1.200282  ... -0.767989  3.556426    3.260699\n",
              "84   0.328165    2.354879    1.200282  ... -0.320707 -0.895548   -0.900666\n",
              "170  0.328165   -0.424650    1.200282  ... -0.767989 -0.153552   -0.068393\n",
              "69  -3.047247    2.354879    1.200282  ... -1.774373 -0.450350   -0.761954\n",
              "\n",
              "[5 rows x 22 columns]"
            ]
          },
          "metadata": {
            "tags": []
          },
          "execution_count": 54
        }
      ]
    },
    {
      "cell_type": "code",
      "metadata": {
        "colab": {
          "base_uri": "https://localhost:8080/"
        },
        "id": "AsDVuvQjEyrQ",
        "outputId": "0759dc99-8495-4c25-c068-6f6042f040cb"
      },
      "source": [
        "# Making Base Model\n",
        "\n",
        "model = tf.keras.models.Sequential()\n",
        "model.add(Dense(10, activation = 'relu', input_shape=[len(train_data.keys())]))\n",
        "model.add(Dropout(0.5))\n",
        "model.add(Dense(8, activation='relu'))\n",
        "model.add(Dropout(0.5))\n",
        "model.add(Dense(6, activation = 'sigmoid'))\n",
        "model.add(Dense(1,))\n",
        "model.compile(optimizer = 'rmsprop', loss = 'mse', metrics = ['mse', 'mae'])\n",
        "model.summary()"
      ],
      "execution_count": null,
      "outputs": [
        {
          "output_type": "stream",
          "text": [
            "Model: \"sequential_8\"\n",
            "_________________________________________________________________\n",
            "Layer (type)                 Output Shape              Param #   \n",
            "=================================================================\n",
            "dense_32 (Dense)             (None, 10)                230       \n",
            "_________________________________________________________________\n",
            "dropout_2 (Dropout)          (None, 10)                0         \n",
            "_________________________________________________________________\n",
            "dense_33 (Dense)             (None, 8)                 88        \n",
            "_________________________________________________________________\n",
            "dropout_3 (Dropout)          (None, 8)                 0         \n",
            "_________________________________________________________________\n",
            "dense_34 (Dense)             (None, 6)                 54        \n",
            "_________________________________________________________________\n",
            "dense_35 (Dense)             (None, 1)                 7         \n",
            "=================================================================\n",
            "Total params: 379\n",
            "Trainable params: 379\n",
            "Non-trainable params: 0\n",
            "_________________________________________________________________\n"
          ],
          "name": "stdout"
        }
      ]
    },
    {
      "cell_type": "code",
      "metadata": {
        "id": "90tSr4UsGukB"
      },
      "source": [
        "# Training Model on Train Data\n",
        "\n",
        "history = model.fit(train_data, train_labels, epochs=100, verbose = 0, validation_split= 0.2)"
      ],
      "execution_count": null,
      "outputs": []
    },
    {
      "cell_type": "code",
      "metadata": {
        "colab": {
          "base_uri": "https://localhost:8080/",
          "height": 204
        },
        "id": "gkuYMF4Kv3YF",
        "outputId": "2900bea8-728d-4dad-8c17-ac8b2f33356d"
      },
      "source": [
        "# Feeding History In DataFrame\n",
        "\n",
        "history_df = pd.DataFrame(history.history)\n",
        "history_df['epochs'] = history.epoch\n",
        "history_df.tail()"
      ],
      "execution_count": null,
      "outputs": [
        {
          "output_type": "execute_result",
          "data": {
            "text/html": [
              "<div>\n",
              "<style scoped>\n",
              "    .dataframe tbody tr th:only-of-type {\n",
              "        vertical-align: middle;\n",
              "    }\n",
              "\n",
              "    .dataframe tbody tr th {\n",
              "        vertical-align: top;\n",
              "    }\n",
              "\n",
              "    .dataframe thead th {\n",
              "        text-align: right;\n",
              "    }\n",
              "</style>\n",
              "<table border=\"1\" class=\"dataframe\">\n",
              "  <thead>\n",
              "    <tr style=\"text-align: right;\">\n",
              "      <th></th>\n",
              "      <th>loss</th>\n",
              "      <th>mse</th>\n",
              "      <th>mae</th>\n",
              "      <th>val_loss</th>\n",
              "      <th>val_mse</th>\n",
              "      <th>val_mae</th>\n",
              "      <th>epochs</th>\n",
              "    </tr>\n",
              "  </thead>\n",
              "  <tbody>\n",
              "    <tr>\n",
              "      <th>95</th>\n",
              "      <td>260450816.0</td>\n",
              "      <td>260450816.0</td>\n",
              "      <td>13590.105469</td>\n",
              "      <td>245335696.0</td>\n",
              "      <td>245335696.0</td>\n",
              "      <td>14060.806641</td>\n",
              "      <td>95</td>\n",
              "    </tr>\n",
              "    <tr>\n",
              "      <th>96</th>\n",
              "      <td>260448624.0</td>\n",
              "      <td>260448624.0</td>\n",
              "      <td>13590.011719</td>\n",
              "      <td>245335088.0</td>\n",
              "      <td>245335088.0</td>\n",
              "      <td>14060.784180</td>\n",
              "      <td>96</td>\n",
              "    </tr>\n",
              "    <tr>\n",
              "      <th>97</th>\n",
              "      <td>260447168.0</td>\n",
              "      <td>260447168.0</td>\n",
              "      <td>13589.958008</td>\n",
              "      <td>245334512.0</td>\n",
              "      <td>245334512.0</td>\n",
              "      <td>14060.762695</td>\n",
              "      <td>97</td>\n",
              "    </tr>\n",
              "    <tr>\n",
              "      <th>98</th>\n",
              "      <td>260446992.0</td>\n",
              "      <td>260446992.0</td>\n",
              "      <td>13589.961914</td>\n",
              "      <td>245333888.0</td>\n",
              "      <td>245333888.0</td>\n",
              "      <td>14060.741211</td>\n",
              "      <td>98</td>\n",
              "    </tr>\n",
              "    <tr>\n",
              "      <th>99</th>\n",
              "      <td>260447440.0</td>\n",
              "      <td>260447440.0</td>\n",
              "      <td>13589.971680</td>\n",
              "      <td>245333296.0</td>\n",
              "      <td>245333296.0</td>\n",
              "      <td>14060.720703</td>\n",
              "      <td>99</td>\n",
              "    </tr>\n",
              "  </tbody>\n",
              "</table>\n",
              "</div>"
            ],
            "text/plain": [
              "           loss          mse           mae  ...      val_mse       val_mae  epochs\n",
              "95  260450816.0  260450816.0  13590.105469  ...  245335696.0  14060.806641      95\n",
              "96  260448624.0  260448624.0  13590.011719  ...  245335088.0  14060.784180      96\n",
              "97  260447168.0  260447168.0  13589.958008  ...  245334512.0  14060.762695      97\n",
              "98  260446992.0  260446992.0  13589.961914  ...  245333888.0  14060.741211      98\n",
              "99  260447440.0  260447440.0  13589.971680  ...  245333296.0  14060.720703      99\n",
              "\n",
              "[5 rows x 7 columns]"
            ]
          },
          "metadata": {
            "tags": []
          },
          "execution_count": 93
        }
      ]
    },
    {
      "cell_type": "code",
      "metadata": {
        "id": "QHtxAY2xvUOs",
        "colab": {
          "base_uri": "https://localhost:8080/",
          "height": 552
        },
        "outputId": "b9fc0f56-568f-4cc7-a8eb-360027819f40"
      },
      "source": [
        "# Plotting Loss\n",
        "\n",
        "def history_plot(history):\n",
        "  # For Mean Absolute Error\n",
        "  plt.figure()\n",
        "  plt.xlabel('Epochs')\n",
        "  plt.ylabel('Mean Absolute Error (Price)')\n",
        "  plt.plot(history_df['epochs'], history_df['mae'], label = 'Training MAE')\n",
        "  plt.plot(history_df['epochs'], history_df['val_mae'], label = 'Validation MAE')\n",
        "  plt.legend()\n",
        "  # For Mean Squared Error\n",
        "  plt.figure()\n",
        "  plt.xlabel('Epochs')\n",
        "  plt.ylabel('Mean Square Error (Price)')\n",
        "  plt.plot(history_df['epochs'], history_df['loss'], label = 'Training Loss')\n",
        "  plt.plot(history_df['epochs'], history_df['val_mse'], label = 'Validation Loss')\n",
        "  plt.legend()\n",
        "\n",
        "history_plot(history_df)"
      ],
      "execution_count": null,
      "outputs": [
        {
          "output_type": "display_data",
          "data": {
            "image/png": "[encoded data removed]",
            "text/plain": [
              "<Figure size 432x288 with 1 Axes>"
            ]
          },
          "metadata": {
            "tags": [],
            "needs_background": "light"
          }
        },
        {
          "output_type": "display_data",
          "data": {
            "image/png": "[encoded data removed]",
            "text/plain": [
              "<Figure size 432x288 with 1 Axes>"
            ]
          },
          "metadata": {
            "tags": [],
            "needs_background": "light"
          }
        }
      ]
    },
    {
      "cell_type": "code",
      "metadata": {
        "id": "uriXDy7UwD8P",
        "colab": {
          "base_uri": "https://localhost:8080/"
        },
        "outputId": "0b474bba-d8a4-4ae7-ae4e-3ac9f55d45b6"
      },
      "source": [
        "# Making Predictions On Test Data\n",
        "\n",
        "predictions = model.predict(test_data).flatten()\n",
        "predictions = predictions.flatten()"
      ],
      "execution_count": null,
      "outputs": [
        {
          "output_type": "stream",
          "text": [
            "WARNING:tensorflow:5 out of the last 11 calls to <function Model.make_predict_function.<locals>.predict_function at 0x7f6d87a34680> triggered tf.function retracing. Tracing is expensive and the excessive number of tracings could be due to (1) creating @tf.function repeatedly in a loop, (2) passing tensors with different shapes, (3) passing Python objects instead of tensors. For (1), please define your @tf.function outside of the loop. For (2), @tf.function has experimental_relax_shapes=True option that relaxes argument shapes that can avoid unnecessary retracing. For (3), please refer to https://www.tensorflow.org/guide/function#controlling_retracing and https://www.tensorflow.org/api_docs/python/tf/function for  more details.\n"
          ],
          "name": "stdout"
        }
      ]
    },
    {
      "cell_type": "code",
      "metadata": {
        "colab": {
          "base_uri": "https://localhost:8080/"
        },
        "id": "TT2_4ot2zs3l",
        "outputId": "c2d81221-67ff-42f5-e8e6-d2b6b713988b"
      },
      "source": [
        "test_score = model.evaluate(test_data, test_labels)"
      ],
      "execution_count": null,
      "outputs": [
        {
          "output_type": "stream",
          "text": [
            "2/2 [==============================] - 0s 7ms/step - loss: 199782976.0000 - mse: 199782976.0000 - mae: 12352.6729\n"
          ],
          "name": "stdout"
        }
      ]
    },
    {
      "cell_type": "code",
      "metadata": {
        "colab": {
          "base_uri": "https://localhost:8080/"
        },
        "id": "4SHAj4FWS-Ry",
        "outputId": "e37254bb-016d-40b6-9bdf-764774a10acb"
      },
      "source": [
        "print(f\"Loss: {test_score[0]}\")\n",
        "print(f\"Mean Absolute Error: {test_score[2]}\")"
      ],
      "execution_count": null,
      "outputs": [
        {
          "output_type": "stream",
          "text": [
            "Loss: 199782976.0\n",
            "Mean Absolute Error: 12352.6728515625\n"
          ],
          "name": "stdout"
        }
      ]
    },
    {
      "cell_type": "code",
      "metadata": {
        "id": "iu_84DXL4zmi",
        "colab": {
          "base_uri": "https://localhost:8080/",
          "height": 613
        },
        "outputId": "990e7720-df20-43b1-8c0b-3b816ffbd34b"
      },
      "source": [
        "fig = plt.figure(figsize=(8,8))\n",
        "sns.distplot((predictions - test_labels), bins = 20)\n",
        "fig.suptitle('Error Terms', fontsize = 20)                  # Plot heading \n",
        "plt.xlabel('Errors', fontsize = 18)   "
      ],
      "execution_count": null,
      "outputs": [
        {
          "output_type": "stream",
          "text": [
            "/usr/local/lib/python3.7/dist-packages/seaborn/distributions.py:2557: FutureWarning: `distplot` is a deprecated function and will be removed in a future version. Please adapt your code to use either `displot` (a figure-level function with similar flexibility) or `histplot` (an axes-level function for histograms).\n",
            "  warnings.warn(msg, FutureWarning)\n"
          ],
          "name": "stderr"
        },
        {
          "output_type": "execute_result",
          "data": {
            "text/plain": [
              "Text(0.5, 0, 'Errors')"
            ]
          },
          "metadata": {
            "tags": []
          },
          "execution_count": 98
        },
        {
          "output_type": "display_data",
          "data": {
            "image/png": "[encoded data removed]",
            "text/plain": [
              "<Figure size 576x576 with 1 Axes>"
            ]
          },
          "metadata": {
            "tags": [],
            "needs_background": "light"
          }
        }
      ]
    },
    {
      "cell_type": "markdown",
      "metadata": {
        "id": "AE8HmIrAYkVg"
      },
      "source": [
        "Making Second Model For Tuning"
      ]
    },
    {
      "cell_type": "code",
      "metadata": {
        "id": "bqzNrm7wS_y0",
        "colab": {
          "base_uri": "https://localhost:8080/"
        },
        "outputId": "7a756f6c-97b0-4774-85c2-c7701176bc29"
      },
      "source": [
        "# Making Second Model\n",
        "\n",
        "from tensorflow.keras.models import Sequential\n",
        "model2 = Sequential()\n",
        "model2.add(Dense(64, activation = 'relu', input_shape = [len(train_data.keys())]))\n",
        "model2.add(Dropout(0.5))\n",
        "model2.add(Dense(64, activation = 'relu'))\n",
        "model2.add(Dropout(0.5))\n",
        "model2.add(Dense(64, activation = 'relu'))\n",
        "model2.add(Dropout(0.5))\n",
        "model2.add(Dense(64, activation = 'relu'))\n",
        "model2.add(Dense(1))\n",
        "optimizer = tf.keras.optimizers.RMSprop(0.001)\n",
        "model2.compile(optimizer=optimizer, loss='mse', metrics=['mse','mae'])\n",
        "model2.summary()"
      ],
      "execution_count": null,
      "outputs": [
        {
          "output_type": "stream",
          "text": [
            "Model: \"sequential_9\"\n",
            "_________________________________________________________________\n",
            "Layer (type)                 Output Shape              Param #   \n",
            "=================================================================\n",
            "dense_36 (Dense)             (None, 64)                1472      \n",
            "_________________________________________________________________\n",
            "dropout_4 (Dropout)          (None, 64)                0         \n",
            "_________________________________________________________________\n",
            "dense_37 (Dense)             (None, 64)                4160      \n",
            "_________________________________________________________________\n",
            "dropout_5 (Dropout)          (None, 64)                0         \n",
            "_________________________________________________________________\n",
            "dense_38 (Dense)             (None, 64)                4160      \n",
            "_________________________________________________________________\n",
            "dropout_6 (Dropout)          (None, 64)                0         \n",
            "_________________________________________________________________\n",
            "dense_39 (Dense)             (None, 64)                4160      \n",
            "_________________________________________________________________\n",
            "dense_40 (Dense)             (None, 1)                 65        \n",
            "=================================================================\n",
            "Total params: 14,017\n",
            "Trainable params: 14,017\n",
            "Non-trainable params: 0\n",
            "_________________________________________________________________\n"
          ],
          "name": "stdout"
        }
      ]
    },
    {
      "cell_type": "code",
      "metadata": {
        "id": "hgATN0PKS_r_"
      },
      "source": [
        "# Training Model\n",
        "\n",
        "history_1 = model2.fit(train_data, train_labels, epochs=1000, verbose = 0, validation_split=0.2)"
      ],
      "execution_count": null,
      "outputs": []
    },
    {
      "cell_type": "code",
      "metadata": {
        "id": "Jjx4Dtp9TAXd",
        "colab": {
          "base_uri": "https://localhost:8080/",
          "height": 204
        },
        "outputId": "f50d1058-f69e-4a15-c022-1d24bf02c259"
      },
      "source": [
        "# Feeding history_1 In DataFrame\n",
        "\n",
        "history_1_df = pd.DataFrame(history_1.history)\n",
        "history_1_df['epochs'] = history_1.epoch\n",
        "history_1_df.tail()"
      ],
      "execution_count": null,
      "outputs": [
        {
          "output_type": "execute_result",
          "data": {
            "text/html": [
              "<div>\n",
              "<style scoped>\n",
              "    .dataframe tbody tr th:only-of-type {\n",
              "        vertical-align: middle;\n",
              "    }\n",
              "\n",
              "    .dataframe tbody tr th {\n",
              "        vertical-align: top;\n",
              "    }\n",
              "\n",
              "    .dataframe thead th {\n",
              "        text-align: right;\n",
              "    }\n",
              "</style>\n",
              "<table border=\"1\" class=\"dataframe\">\n",
              "  <thead>\n",
              "    <tr style=\"text-align: right;\">\n",
              "      <th></th>\n",
              "      <th>loss</th>\n",
              "      <th>mse</th>\n",
              "      <th>mae</th>\n",
              "      <th>val_loss</th>\n",
              "      <th>val_mse</th>\n",
              "      <th>val_mae</th>\n",
              "      <th>epochs</th>\n",
              "    </tr>\n",
              "  </thead>\n",
              "  <tbody>\n",
              "    <tr>\n",
              "      <th>995</th>\n",
              "      <td>16512424.0</td>\n",
              "      <td>16512424.0</td>\n",
              "      <td>2778.442871</td>\n",
              "      <td>28734348.0</td>\n",
              "      <td>28734348.0</td>\n",
              "      <td>3183.234375</td>\n",
              "      <td>995</td>\n",
              "    </tr>\n",
              "    <tr>\n",
              "      <th>996</th>\n",
              "      <td>16190760.0</td>\n",
              "      <td>16190760.0</td>\n",
              "      <td>2694.082031</td>\n",
              "      <td>28649402.0</td>\n",
              "      <td>28649402.0</td>\n",
              "      <td>3178.132080</td>\n",
              "      <td>996</td>\n",
              "    </tr>\n",
              "    <tr>\n",
              "      <th>997</th>\n",
              "      <td>13991866.0</td>\n",
              "      <td>13991866.0</td>\n",
              "      <td>2660.274658</td>\n",
              "      <td>28792360.0</td>\n",
              "      <td>28792360.0</td>\n",
              "      <td>3178.793213</td>\n",
              "      <td>997</td>\n",
              "    </tr>\n",
              "    <tr>\n",
              "      <th>998</th>\n",
              "      <td>18894262.0</td>\n",
              "      <td>18894262.0</td>\n",
              "      <td>3149.061035</td>\n",
              "      <td>28186346.0</td>\n",
              "      <td>28186346.0</td>\n",
              "      <td>3160.947754</td>\n",
              "      <td>998</td>\n",
              "    </tr>\n",
              "    <tr>\n",
              "      <th>999</th>\n",
              "      <td>19521002.0</td>\n",
              "      <td>19521002.0</td>\n",
              "      <td>3046.217041</td>\n",
              "      <td>28130644.0</td>\n",
              "      <td>28130644.0</td>\n",
              "      <td>3159.429932</td>\n",
              "      <td>999</td>\n",
              "    </tr>\n",
              "  </tbody>\n",
              "</table>\n",
              "</div>"
            ],
            "text/plain": [
              "           loss         mse          mae  ...     val_mse      val_mae  epochs\n",
              "995  16512424.0  16512424.0  2778.442871  ...  28734348.0  3183.234375     995\n",
              "996  16190760.0  16190760.0  2694.082031  ...  28649402.0  3178.132080     996\n",
              "997  13991866.0  13991866.0  2660.274658  ...  28792360.0  3178.793213     997\n",
              "998  18894262.0  18894262.0  3149.061035  ...  28186346.0  3160.947754     998\n",
              "999  19521002.0  19521002.0  3046.217041  ...  28130644.0  3159.429932     999\n",
              "\n",
              "[5 rows x 7 columns]"
            ]
          },
          "metadata": {
            "tags": []
          },
          "execution_count": 101
        }
      ]
    },
    {
      "cell_type": "code",
      "metadata": {
        "colab": {
          "base_uri": "https://localhost:8080/",
          "height": 552
        },
        "id": "rAo-SW6Y3gmR",
        "outputId": "97b8eb60-c4fb-4a56-cea9-b9cf64834610"
      },
      "source": [
        "# Plotting Loss\n",
        "\n",
        "def history_plot(history):\n",
        "  # For Mean Absolute Error\n",
        "  plt.figure()\n",
        "  plt.xlabel('Epochs')\n",
        "  plt.ylabel('Mean Absolute Error (Price)')\n",
        "  plt.plot(history_1_df['epochs'], history_1_df['mae'], label = 'Training MAE')\n",
        "  plt.plot(history_1_df['epochs'], history_1_df['val_mae'], label = 'Validation MAE')\n",
        "  plt.legend()\n",
        "  # For Mean Squared Error\n",
        "  plt.figure()\n",
        "  plt.xlabel('Epochs')\n",
        "  plt.ylabel('Mean Square Error (Price)')\n",
        "  plt.plot(history_1_df['epochs'], history_1_df['loss'], label = 'Training Loss')\n",
        "  plt.plot(history_1_df['epochs'], history_1_df['val_mse'], label = 'Validation Loss')\n",
        "  plt.legend()\n",
        "\n",
        "history_plot(history_1_df)"
      ],
      "execution_count": null,
      "outputs": [
        {
          "output_type": "display_data",
          "data": {
            "image/png": "[encoded data removed]",
            "text/plain": [
              "<Figure size 432x288 with 1 Axes>"
            ]
          },
          "metadata": {
            "tags": [],
            "needs_background": "light"
          }
        },
        {
          "output_type": "display_data",
          "data": {
            "image/png": "[encoded data removed]",
            "text/plain": [
              "<Figure size 432x288 with 1 Axes>"
            ]
          },
          "metadata": {
            "tags": [],
            "needs_background": "light"
          }
        }
      ]
    },
    {
      "cell_type": "code",
      "metadata": {
        "id": "bL3hgEBH5Nt5",
        "colab": {
          "base_uri": "https://localhost:8080/"
        },
        "outputId": "1b94b29e-f42a-4192-b9da-1de69d00d458"
      },
      "source": [
        "predictions1 = model2.predict(test_data)\n",
        "predictions1 = predictions1.flatten()"
      ],
      "execution_count": null,
      "outputs": [
        {
          "output_type": "stream",
          "text": [
            "WARNING:tensorflow:5 out of the last 11 calls to <function Model.make_predict_function.<locals>.predict_function at 0x7f6d86778a70> triggered tf.function retracing. Tracing is expensive and the excessive number of tracings could be due to (1) creating @tf.function repeatedly in a loop, (2) passing tensors with different shapes, (3) passing Python objects instead of tensors. For (1), please define your @tf.function outside of the loop. For (2), @tf.function has experimental_relax_shapes=True option that relaxes argument shapes that can avoid unnecessary retracing. For (3), please refer to https://www.tensorflow.org/guide/function#controlling_retracing and https://www.tensorflow.org/api_docs/python/tf/function for  more details.\n"
          ],
          "name": "stdout"
        }
      ]
    },
    {
      "cell_type": "code",
      "metadata": {
        "colab": {
          "base_uri": "https://localhost:8080/"
        },
        "id": "VcDyzWzZ-WO_",
        "outputId": "7a09dad6-7055-4c2c-f201-b5611f6cb808"
      },
      "source": [
        "test1_score = model2.evaluate(test_data, test_labels)"
      ],
      "execution_count": null,
      "outputs": [
        {
          "output_type": "stream",
          "text": [
            "2/2 [==============================] - 0s 4ms/step - loss: 22835950.0000 - mse: 22835950.0000 - mae: 2357.1218\n"
          ],
          "name": "stdout"
        }
      ]
    },
    {
      "cell_type": "code",
      "metadata": {
        "colab": {
          "base_uri": "https://localhost:8080/"
        },
        "id": "JMOoBla_-sOi",
        "outputId": "c63437ef-5867-4cae-b152-445325117b26"
      },
      "source": [
        "print(f\"Loss: {test1_score[0]}\")\n",
        "print(f\"Mean Absolute Error: {test1_score[2]}\")"
      ],
      "execution_count": null,
      "outputs": [
        {
          "output_type": "stream",
          "text": [
            "Loss: 22835950.0\n",
            "Mean Absolute Error: 2357.121826171875\n"
          ],
          "name": "stdout"
        }
      ]
    },
    {
      "cell_type": "code",
      "metadata": {
        "id": "WSMJlULJ0HcG",
        "colab": {
          "base_uri": "https://localhost:8080/",
          "height": 686
        },
        "outputId": "e52ec814-76e0-4521-a6ae-3e70ef528ca2"
      },
      "source": [
        "# Making Price Predictions On Test Data\n",
        "\n",
        "fig = plt.figure(figsize=(10,10))\n",
        "plt.scatter(test_labels, predictions1)\n",
        "fig.suptitle('Actual Price Vs Predicted Price', fontsize=20)             \n",
        "plt.xlabel('Test', fontsize=18)                         \n",
        "plt.ylabel('Predict', fontsize=16)   \n",
        "lims = [0, 100000]\n",
        "plt.xlim(lims)\n",
        "plt.ylim(lims)\n",
        "_ = plt.plot(lims, lims)"
      ],
      "execution_count": null,
      "outputs": [
        {
          "output_type": "display_data",
          "data": {
            "image/png": "[encoded data removed]",
            "text/plain": [
              "<Figure size 720x720 with 1 Axes>"
            ]
          },
          "metadata": {
            "tags": [],
            "needs_background": "light"
          }
        }
      ]
    },
    {
      "cell_type": "code",
      "metadata": {
        "colab": {
          "base_uri": "https://localhost:8080/",
          "height": 613
        },
        "id": "3zR-0tyVMiDL",
        "outputId": "0f6ca4cb-6458-4eaf-cf21-cc45484df93d"
      },
      "source": [
        "fig = plt.figure(figsize=(8,8))\n",
        "sns.distplot((predictions1 - test_labels), bins = 20)\n",
        "fig.suptitle('Error Terms', fontsize = 20)                  # Plot heading \n",
        "plt.xlabel('Errors', fontsize = 18)   "
      ],
      "execution_count": null,
      "outputs": [
        {
          "output_type": "stream",
          "text": [
            "/usr/local/lib/python3.7/dist-packages/seaborn/distributions.py:2557: FutureWarning: `distplot` is a deprecated function and will be removed in a future version. Please adapt your code to use either `displot` (a figure-level function with similar flexibility) or `histplot` (an axes-level function for histograms).\n",
            "  warnings.warn(msg, FutureWarning)\n"
          ],
          "name": "stderr"
        },
        {
          "output_type": "execute_result",
          "data": {
            "text/plain": [
              "Text(0.5, 0, 'Errors')"
            ]
          },
          "metadata": {
            "tags": []
          },
          "execution_count": 107
        },
        {
          "output_type": "display_data",
          "data": {
            "image/png": "[encoded data removed]",
            "text/plain": [
              "<Figure size 576x576 with 1 Axes>"
            ]
          },
          "metadata": {
            "tags": [],
            "needs_background": "light"
          }
        }
      ]
    },
    {
      "cell_type": "markdown",
      "metadata": {
        "id": "bUHi7WIkPVNj"
      },
      "source": [
        "Building Third Model For Overcoming Overfitting"
      ]
    },
    {
      "cell_type": "code",
      "metadata": {
        "id": "cYbl60ZKPs1s"
      },
      "source": [
        "# Overcoming Overfitting \n",
        "from tensorflow.keras.callbacks import EarlyStopping\n",
        "overcome = EarlyStopping(monitor = 'val_loss', patience = 10)"
      ],
      "execution_count": null,
      "outputs": []
    },
    {
      "cell_type": "code",
      "metadata": {
        "id": "zO46obMTmWiB",
        "colab": {
          "base_uri": "https://localhost:8080/"
        },
        "outputId": "df281816-0fe2-4683-df01-73a2e0d82885"
      },
      "source": [
        "from tensorflow.keras.models import Sequential\n",
        "model3 = Sequential()\n",
        "model3.add(Dense(128, activation = 'relu', input_shape = [len(train_data.keys())]))\n",
        "model3.add(Dropout(0.5))\n",
        "model3.add(Dense(128, activation = 'relu'))\n",
        "model3.add(Dropout(0.5))\n",
        "model3.add(Dense(64, activation = 'relu'))\n",
        "model.add(Dropout(0.5))\n",
        "model3.add(Dense(64, activation = 'relu'))\n",
        "model3.add(Dense(1))\n",
        "model3.compile(optimizer='adam', loss='mse', metrics=['mse','mae'])\n",
        "model3.summary()"
      ],
      "execution_count": null,
      "outputs": [
        {
          "output_type": "stream",
          "text": [
            "Model: \"sequential_10\"\n",
            "_________________________________________________________________\n",
            "Layer (type)                 Output Shape              Param #   \n",
            "=================================================================\n",
            "dense_41 (Dense)             (None, 128)               2944      \n",
            "_________________________________________________________________\n",
            "dropout_7 (Dropout)          (None, 128)               0         \n",
            "_________________________________________________________________\n",
            "dense_42 (Dense)             (None, 128)               16512     \n",
            "_________________________________________________________________\n",
            "dropout_8 (Dropout)          (None, 128)               0         \n",
            "_________________________________________________________________\n",
            "dense_43 (Dense)             (None, 64)                8256      \n",
            "_________________________________________________________________\n",
            "dense_44 (Dense)             (None, 64)                4160      \n",
            "_________________________________________________________________\n",
            "dense_45 (Dense)             (None, 1)                 65        \n",
            "=================================================================\n",
            "Total params: 31,937\n",
            "Trainable params: 31,937\n",
            "Non-trainable params: 0\n",
            "_________________________________________________________________\n"
          ],
          "name": "stdout"
        }
      ]
    },
    {
      "cell_type": "code",
      "metadata": {
        "id": "cu2vsRAwQJD5"
      },
      "source": [
        "history_2 = model3.fit(train_data, train_labels, epochs=100, verbose = 0, validation_split = 0.2)"
      ],
      "execution_count": null,
      "outputs": []
    },
    {
      "cell_type": "code",
      "metadata": {
        "colab": {
          "base_uri": "https://localhost:8080/",
          "height": 204
        },
        "id": "V3rc0H2KQI0s",
        "outputId": "4cc88481-a08b-4cc0-ab97-fc5a1cf4bc1a"
      },
      "source": [
        "history_2_df = pd.DataFrame(history_2.history)\n",
        "history_2_df['epochs'] = history_2.epoch\n",
        "history_2_df.tail()"
      ],
      "execution_count": null,
      "outputs": [
        {
          "output_type": "execute_result",
          "data": {
            "text/html": [
              "<div>\n",
              "<style scoped>\n",
              "    .dataframe tbody tr th:only-of-type {\n",
              "        vertical-align: middle;\n",
              "    }\n",
              "\n",
              "    .dataframe tbody tr th {\n",
              "        vertical-align: top;\n",
              "    }\n",
              "\n",
              "    .dataframe thead th {\n",
              "        text-align: right;\n",
              "    }\n",
              "</style>\n",
              "<table border=\"1\" class=\"dataframe\">\n",
              "  <thead>\n",
              "    <tr style=\"text-align: right;\">\n",
              "      <th></th>\n",
              "      <th>loss</th>\n",
              "      <th>mse</th>\n",
              "      <th>mae</th>\n",
              "      <th>val_loss</th>\n",
              "      <th>val_mse</th>\n",
              "      <th>val_mae</th>\n",
              "      <th>epochs</th>\n",
              "    </tr>\n",
              "  </thead>\n",
              "  <tbody>\n",
              "    <tr>\n",
              "      <th>95</th>\n",
              "      <td>15043169.0</td>\n",
              "      <td>15043169.0</td>\n",
              "      <td>2678.252686</td>\n",
              "      <td>40751664.0</td>\n",
              "      <td>40751664.0</td>\n",
              "      <td>3498.968994</td>\n",
              "      <td>95</td>\n",
              "    </tr>\n",
              "    <tr>\n",
              "      <th>96</th>\n",
              "      <td>10198263.0</td>\n",
              "      <td>10198263.0</td>\n",
              "      <td>2382.214600</td>\n",
              "      <td>40740996.0</td>\n",
              "      <td>40740996.0</td>\n",
              "      <td>3539.013428</td>\n",
              "      <td>96</td>\n",
              "    </tr>\n",
              "    <tr>\n",
              "      <th>97</th>\n",
              "      <td>12180616.0</td>\n",
              "      <td>12180616.0</td>\n",
              "      <td>2557.689209</td>\n",
              "      <td>41070000.0</td>\n",
              "      <td>41070000.0</td>\n",
              "      <td>3652.845215</td>\n",
              "      <td>97</td>\n",
              "    </tr>\n",
              "    <tr>\n",
              "      <th>98</th>\n",
              "      <td>10720573.0</td>\n",
              "      <td>10720573.0</td>\n",
              "      <td>2387.112061</td>\n",
              "      <td>41142356.0</td>\n",
              "      <td>41142356.0</td>\n",
              "      <td>3675.408203</td>\n",
              "      <td>98</td>\n",
              "    </tr>\n",
              "    <tr>\n",
              "      <th>99</th>\n",
              "      <td>9812041.0</td>\n",
              "      <td>9812041.0</td>\n",
              "      <td>2380.618164</td>\n",
              "      <td>40724644.0</td>\n",
              "      <td>40724644.0</td>\n",
              "      <td>3596.425049</td>\n",
              "      <td>99</td>\n",
              "    </tr>\n",
              "  </tbody>\n",
              "</table>\n",
              "</div>"
            ],
            "text/plain": [
              "          loss         mse          mae  ...     val_mse      val_mae  epochs\n",
              "95  15043169.0  15043169.0  2678.252686  ...  40751664.0  3498.968994      95\n",
              "96  10198263.0  10198263.0  2382.214600  ...  40740996.0  3539.013428      96\n",
              "97  12180616.0  12180616.0  2557.689209  ...  41070000.0  3652.845215      97\n",
              "98  10720573.0  10720573.0  2387.112061  ...  41142356.0  3675.408203      98\n",
              "99   9812041.0   9812041.0  2380.618164  ...  40724644.0  3596.425049      99\n",
              "\n",
              "[5 rows x 7 columns]"
            ]
          },
          "metadata": {
            "tags": []
          },
          "execution_count": 111
        }
      ]
    },
    {
      "cell_type": "code",
      "metadata": {
        "colab": {
          "base_uri": "https://localhost:8080/",
          "height": 552
        },
        "id": "8sJPObMIQabp",
        "outputId": "666242f2-67eb-4d26-f6ea-69fcb423002d"
      },
      "source": [
        "# Plotting Validation Loss After Overcoming Overfitting\n",
        "# Plotting Loss\n",
        "def history_plot(history):\n",
        "  # For Mean Absolute Error\n",
        "  plt.figure()\n",
        "  plt.xlabel('Epochs')\n",
        "  plt.ylabel('Mean Absolute Error (Concrete Strength)')\n",
        "  plt.plot(history_2_df['epochs'], history_2_df['mae'], label = 'Training MAE')\n",
        "  plt.plot(history_2_df['epochs'], history_2_df['val_mae'], label = 'Validation MAE')\n",
        "  plt.legend()\n",
        "  # For Mean Squared Error\n",
        "  plt.figure()\n",
        "  plt.xlabel('Epochs')\n",
        "  plt.ylabel('Mean Square Error (Concrete Strength)')\n",
        "  plt.plot(history_2_df['epochs'], history_2_df['loss'], label = 'Training Loss')\n",
        "  plt.plot(history_2_df['epochs'], history_2_df['val_mse'], label = 'Validation Loss')\n",
        "  plt.legend()\n",
        "\n",
        "history_plot(history_2_df)"
      ],
      "execution_count": null,
      "outputs": [
        {
          "output_type": "display_data",
          "data": {
            "image/png": "[encoded data removed]",
            "text/plain": [
              "<Figure size 432x288 with 1 Axes>"
            ]
          },
          "metadata": {
            "tags": [],
            "needs_background": "light"
          }
        },
        {
          "output_type": "display_data",
          "data": {
            "image/png": "[encoded data removed]",
            "text/plain": [
              "<Figure size 432x288 with 1 Axes>"
            ]
          },
          "metadata": {
            "tags": [],
            "needs_background": "light"
          }
        }
      ]
    },
    {
      "cell_type": "code",
      "metadata": {
        "colab": {
          "base_uri": "https://localhost:8080/"
        },
        "id": "9T4HRMlCQiZW",
        "outputId": "78848d5b-0ea3-4ae1-ee27-09ac0ce5d058"
      },
      "source": [
        "predictions3 = model3.predict(test_data)\n",
        "predictions3 = predictions3.flatten()"
      ],
      "execution_count": null,
      "outputs": [
        {
          "output_type": "stream",
          "text": [
            "WARNING:tensorflow:6 out of the last 13 calls to <function Model.make_predict_function.<locals>.predict_function at 0x7f6d8b455200> triggered tf.function retracing. Tracing is expensive and the excessive number of tracings could be due to (1) creating @tf.function repeatedly in a loop, (2) passing tensors with different shapes, (3) passing Python objects instead of tensors. For (1), please define your @tf.function outside of the loop. For (2), @tf.function has experimental_relax_shapes=True option that relaxes argument shapes that can avoid unnecessary retracing. For (3), please refer to https://www.tensorflow.org/guide/function#controlling_retracing and https://www.tensorflow.org/api_docs/python/tf/function for  more details.\n"
          ],
          "name": "stdout"
        }
      ]
    },
    {
      "cell_type": "code",
      "metadata": {
        "colab": {
          "base_uri": "https://localhost:8080/"
        },
        "id": "GecIl7TcQn6t",
        "outputId": "abd066c8-c6b7-47fa-f8a8-25d126513881"
      },
      "source": [
        "test2_score  = model3.evaluate(test_data, test_labels)"
      ],
      "execution_count": null,
      "outputs": [
        {
          "output_type": "stream",
          "text": [
            "2/2 [==============================] - 0s 6ms/step - loss: 36823084.0000 - mse: 36823084.0000 - mae: 2916.3311\n"
          ],
          "name": "stdout"
        }
      ]
    },
    {
      "cell_type": "code",
      "metadata": {
        "colab": {
          "base_uri": "https://localhost:8080/",
          "height": 686
        },
        "id": "ap7xdz-fQ7B_",
        "outputId": "476fdd44-857a-44cb-cc17-c72374863aec"
      },
      "source": [
        "# Making Price Predictions On Test Data\n",
        "\n",
        "fig = plt.figure(figsize=(10,10))\n",
        "plt.scatter(test_labels, predictions1)\n",
        "fig.suptitle('Actual Price Vs Predicted Price', fontsize=20)             \n",
        "plt.xlabel('Test', fontsize=18)                         \n",
        "plt.ylabel('Predict', fontsize=16)   \n",
        "lims = [0, 100000]\n",
        "plt.xlim(lims)\n",
        "plt.ylim(lims)\n",
        "_ = plt.plot(lims, lims)"
      ],
      "execution_count": null,
      "outputs": [
        {
          "output_type": "display_data",
          "data": {
            "image/png": "[encoded data removed]",
            "text/plain": [
              "<Figure size 720x720 with 1 Axes>"
            ]
          },
          "metadata": {
            "tags": [],
            "needs_background": "light"
          }
        }
      ]
    },
    {
      "cell_type": "code",
      "metadata": {
        "colab": {
          "base_uri": "https://localhost:8080/"
        },
        "id": "qZaCZ3GOQy5q",
        "outputId": "c901e9ec-68c2-4c54-8c60-bf9a9e6a6973"
      },
      "source": [
        "print(f\"Loss: {test2_score[0]}\")\n",
        "print(f\"Mean Absolute Error: {test2_score[2]}\")"
      ],
      "execution_count": null,
      "outputs": [
        {
          "output_type": "stream",
          "text": [
            "Loss: 36823084.0\n",
            "Mean Absolute Error: 2916.3310546875\n"
          ],
          "name": "stdout"
        }
      ]
    },
    {
      "cell_type": "markdown",
      "metadata": {
        "id": "nBLfTWMb4y6m"
      },
      "source": [
        "Final Loss: 36823084.0 <br>\n",
        "Final Mean Absolute Error: 2916.331"
      ]
    },
    {
      "cell_type": "code",
      "metadata": {
        "id": "E1Gm0fPQ-kDu"
      },
      "source": [
        "# Saving Appropriate Model\n",
        "model2.save('CarPricePredictionModel.h5')"
      ],
      "execution_count": null,
      "outputs": []
    },
    {
      "cell_type": "code",
      "metadata": {
        "colab": {
          "base_uri": "https://localhost:8080/",
          "height": 34
        },
        "id": "kc5wZHIY-y8b",
        "outputId": "541e14ca-bcf2-469b-b96a-bb948c383af5"
      },
      "source": [
        "# Saving Model In CSV File\n",
        "from google.colab import files\n",
        "df.to_csv('Concrete_Strength_Assignment.csv', index=False)\n",
        "files.download('Concrete_Strength_Assignment.csv')\n",
        "print(\"Your File Was Saved Successfully!\")"
      ],
      "execution_count": null,
      "outputs": [
        {
          "output_type": "display_data",
          "data": {
            "application/javascript": [
              "\n",
              "    async function download(id, filename, size) {\n",
              "      if (!google.colab.kernel.accessAllowed) {\n",
              "        return;\n",
              "      }\n",
              "      const div = document.createElement('div');\n",
              "      const label = document.createElement('label');\n",
              "      label.textContent = `Downloading \"${filename}\": `;\n",
              "      div.appendChild(label);\n",
              "      const progress = document.createElement('progress');\n",
              "      progress.max = size;\n",
              "      div.appendChild(progress);\n",
              "      document.body.appendChild(div);\n",
              "\n",
              "      const buffers = [];\n",
              "      let downloaded = 0;\n",
              "\n",
              "      const channel = await google.colab.kernel.comms.open(id);\n",
              "      // Send a message to notify the kernel that we're ready.\n",
              "      channel.send({})\n",
              "\n",
              "      for await (const message of channel.messages) {\n",
              "        // Send a message to notify the kernel that we're ready.\n",
              "        channel.send({})\n",
              "        if (message.buffers) {\n",
              "          for (const buffer of message.buffers) {\n",
              "            buffers.push(buffer);\n",
              "            downloaded += buffer.byteLength;\n",
              "            progress.value = downloaded;\n",
              "          }\n",
              "        }\n",
              "      }\n",
              "      const blob = new Blob(buffers, {type: 'application/binary'});\n",
              "      const a = document.createElement('a');\n",
              "      a.href = window.URL.createObjectURL(blob);\n",
              "      a.download = filename;\n",
              "      div.appendChild(a);\n",
              "      a.click();\n",
              "      div.remove();\n",
              "    }\n",
              "  "
            ],
            "text/plain": [
              "<IPython.core.display.Javascript object>"
            ]
          },
          "metadata": {
            "tags": []
          }
        },
        {
          "output_type": "display_data",
          "data": {
            "application/javascript": [
              "download(\"download_ddbb206e-d426-4219-b17b-22b94e1f31d7\", \"Concrete_Strength_Assignment.csv\", 17439)"
            ],
            "text/plain": [
              "<IPython.core.display.Javascript object>"
            ]
          },
          "metadata": {
            "tags": []
          }
        },
        {
          "output_type": "stream",
          "text": [
            "Your File Was Saved Successfully!\n"
          ],
          "name": "stdout"
        }
      ]
    }
  ]
}