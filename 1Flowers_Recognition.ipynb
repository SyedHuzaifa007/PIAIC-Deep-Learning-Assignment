{
  "nbformat": 4,
  "nbformat_minor": 0,
  "metadata": {
    "colab": {
      "name": "1Flowers_Recognition.ipynb",
      "provenance": [],
      "include_colab_link": true
    },
    "kernelspec": {
      "display_name": "Python 3",
      "language": "python",
      "name": "python3"
    },
    "language_info": {
      "codemirror_mode": {
        "name": "ipython",
        "version": 3
      },
      "file_extension": ".py",
      "mimetype": "text/x-python",
      "name": "python",
      "nbconvert_exporter": "python",
      "pygments_lexer": "ipython3",
      "version": "3.9.2"
    }
  },
  "cells": [
    {
      "cell_type": "markdown",
      "metadata": {
        "id": "view-in-github",
        "colab_type": "text"
      },
      "source": [
        "<a href=\"https://colab.research.google.com/github/SyedHuzaifa007/PIAIC-Deep-Learning-Assignments/blob/main/1Flowers_Recognition.ipynb\" target=\"_parent\"><img src=\"https://colab.research.google.com/assets/colab-badge.svg\" alt=\"Open In Colab\"/></a>"
      ]
    },
    {
      "cell_type": "markdown",
      "metadata": {
        "id": "BXgJ6uT1NydQ"
      },
      "source": [
        "Assignment: Flowers Recognition <br>\n",
        "Dataset Description:<br>\n",
        "\n",
        "This dataset contains 4242 images of flowers.<br>\n",
        "The data collection is based on the data flicr, google images, yandex images.<br>\n",
        "You can use this datastet to recognize plants from the photo.<br>\n",
        "\n",
        "Attribute Information:<br>\n",
        "The pictures are divided into five classes: chamomile, tulip, rose, sunflower, dandelion.<br>\n",
        "For each class there are about 800 photos. Photos are not high resolution, about 320x240 pixels. <br>\n",
        "<b>Also explore how to resize images in tensorflow and then resize all the images to a same size. </b> <br>\n",
        "This is a Multiclass Classification Problem.<br>\n",
        "\n",
        "\n"
      ]
    },
    {
      "cell_type": "markdown",
      "metadata": {
        "id": "T7vy-ktuOKJH"
      },
      "source": [
        "WORKFLOW : <br>\n",
        "Load Data <br>\n",
        "Split into 60 and 40 ratio.<br>\n",
        "Encode labels.<br>\n",
        "Create Model<br>\n",
        "Compilation Step (Note : Its a Multiclass Classification problem , select loss , metrics according to it)<br>\n",
        "Train the Model.<br>\n",
        "If the model gets overfit tune your model by changing the units , No. of layers , epochs , add dropout layer or add Regularizer according to the need .<br>\n",
        "Prediction should be > 85%<br>\n",
        "Evaluation Step<br>\n",
        "Prediction<br>\n",
        "\n",
        "\n"
      ]
    },
    {
      "cell_type": "markdown",
      "metadata": {
        "id": "ri3Bg5qfPRic"
      },
      "source": [
        "Data : <br>\n",
        "https://drive.google.com/file/d/1-OX6wn5gA-bJpjPNfSyaYQLz-A-AB_uj/view?usp=sharing"
      ]
    },
    {
      "cell_type": "code",
      "metadata": {
        "colab": {
          "base_uri": "https://localhost:8080/"
        },
        "id": "lwx8ZLoJCQmv",
        "outputId": "f0eaa6df-458c-4ee6-8427-8c890e7e0c5e"
      },
      "source": [
        "from google.colab import drive\n",
        "drive.mount('/content/drive')"
      ],
      "execution_count": 7,
      "outputs": [
        {
          "output_type": "stream",
          "text": [
            "Drive already mounted at /content/drive; to attempt to forcibly remount, call drive.mount(\"/content/drive\", force_remount=True).\n"
          ],
          "name": "stdout"
        }
      ]
    },
    {
      "cell_type": "code",
      "metadata": {
        "id": "AjKyAytLC4XG"
      },
      "source": [
        "# Importing Modules\n",
        "import numpy as np\n",
        "import pandas as pd\n",
        "import matplotlib.pyplot as plt\n",
        "import pathlib\n",
        "from pathlib import Path\n",
        "import PIL\n",
        "import os\n",
        "import cv2\n",
        "from sklearn.model_selection import train_test_split\n",
        "from sklearn.preprocessing import LabelBinarizer, LabelEncoder\n",
        "import tensorflow as tf\n",
        "from tensorflow.keras.models import Sequential\n",
        "from tensorflow.keras.layers import Dense, Dropout\n",
        "from keras.optimizers import Adam, RMSprop\n",
        "from keras.utils import to_categorical"
      ],
      "execution_count": 12,
      "outputs": []
    },
    {
      "cell_type": "code",
      "metadata": {
        "colab": {
          "base_uri": "https://localhost:8080/"
        },
        "id": "Pw-flqY5Dr6m",
        "outputId": "2f5c893b-2314-4542-a253-636bafb2b83a"
      },
      "source": [
        "path = Path(\"/content/drive/MyDrive/flowers\")\n",
        "directory = os.listdir(path)\n",
        "directory"
      ],
      "execution_count": 19,
      "outputs": [
        {
          "output_type": "execute_result",
          "data": {
            "text/plain": [
              "['sunflower', 'daisy', 'dandelion', 'tulip', 'rose']"
            ]
          },
          "metadata": {
            "tags": []
          },
          "execution_count": 19
        }
      ]
    },
    {
      "cell_type": "code",
      "metadata": {
        "colab": {
          "base_uri": "https://localhost:8080/"
        },
        "id": "l4ZhMXWeE4EO",
        "outputId": "c6e16898-b92d-476f-ed88-3555f4942587"
      },
      "source": [
        "img_count = len(list(directory.glob('*/*.jpg')))\n",
        "img_count"
      ],
      "execution_count": 10,
      "outputs": [
        {
          "output_type": "execute_result",
          "data": {
            "text/plain": [
              "4325"
            ]
          },
          "metadata": {
            "tags": []
          },
          "execution_count": 10
        }
      ]
    },
    {
      "cell_type": "code",
      "metadata": {
        "id": "yIVO4SzpFFuM"
      },
      "source": [
        "# Extracting Features And Labels From The Directory \n",
        "images = []\n",
        "features = []\n",
        "labels = [] \n",
        "\n",
        "size = 150, 150\n",
        "\n",
        "for folder in directory:\n",
        "  for file in os.listdir(os.path.join(path, folder)):\n",
        "    if file.endswith(\"jpg\"):\n",
        "      images.append(os.path.join(path, folder, file))\n",
        "      labels.append(folder)\n",
        "      img = cv2.imread(os.path.join(path, folder, file))\n",
        "      img = cv2.resize(img, size)\n",
        "      features.append(img)\n",
        "    else:\n",
        "      continue"
      ],
      "execution_count": 33,
      "outputs": []
    },
    {
      "cell_type": "code",
      "metadata": {
        "id": "f1ZCod6vFFp2",
        "colab": {
          "base_uri": "https://localhost:8080/"
        },
        "outputId": "e661c81e-9a7a-4291-a749-10d855d1c1d9"
      },
      "source": [
        "labels[:5]"
      ],
      "execution_count": 34,
      "outputs": [
        {
          "output_type": "execute_result",
          "data": {
            "text/plain": [
              "['sunflower', 'sunflower', 'sunflower', 'sunflower', 'sunflower']"
            ]
          },
          "metadata": {
            "tags": []
          },
          "execution_count": 34
        }
      ]
    },
    {
      "cell_type": "code",
      "metadata": {
        "id": "49UoV4jiFFkK",
        "colab": {
          "base_uri": "https://localhost:8080/"
        },
        "outputId": "af14923b-8477-430c-b064-35f8f67e2522"
      },
      "source": [
        "features[:5]"
      ],
      "execution_count": 28,
      "outputs": [
        {
          "output_type": "execute_result",
          "data": {
            "text/plain": [
              "[array([[[ 11, 125, 126],\n",
              "         [  9, 120, 133],\n",
              "         [ 10, 116, 137],\n",
              "         ...,\n",
              "         [ 43, 148, 144],\n",
              "         [ 43, 133, 129],\n",
              "         [  9,  33,  34]],\n",
              " \n",
              "        [[  9, 122, 126],\n",
              "         [ 22,  60, 169],\n",
              "         [ 27,  40, 207],\n",
              "         ...,\n",
              "         [234, 242, 245],\n",
              "         [157, 184, 183],\n",
              "         [ 12,  16,  18]],\n",
              " \n",
              "        [[ 10, 122, 130],\n",
              "         [ 33,  66, 173],\n",
              "         [ 25,  39, 184],\n",
              "         ...,\n",
              "         [206, 210, 208],\n",
              "         [159, 187, 183],\n",
              "         [  4,  18,  17]],\n",
              " \n",
              "        ...,\n",
              " \n",
              "        [[ 10, 129, 126],\n",
              "         [ 27,  51,  48],\n",
              "         [ 29,  19,   8],\n",
              "         ...,\n",
              "         [ 27,  15,  10],\n",
              "         [ 30,  47,  41],\n",
              "         [  5,  21,  19]],\n",
              " \n",
              "        [[ 18, 122, 121],\n",
              "         [ 34,  54,  53],\n",
              "         [ 28,  16,  12],\n",
              "         ...,\n",
              "         [ 12,  10,   9],\n",
              "         [ 23,  42,  39],\n",
              "         [ 12,  18,  18]],\n",
              " \n",
              "        [[ 23,  93,  95],\n",
              "         [ 14,  35,  35],\n",
              "         [ 11,  31,  25],\n",
              "         ...,\n",
              "         [  9,  29,  33],\n",
              "         [  6,  32,  31],\n",
              "         [  7,   9,  10]]], dtype=uint8), array([[[ 50, 148, 137],\n",
              "         [ 62, 153, 135],\n",
              "         [ 61, 155, 141],\n",
              "         ...,\n",
              "         [ 62, 151, 134],\n",
              "         [ 57, 147, 133],\n",
              "         [ 54, 136, 120]],\n",
              " \n",
              "        [[152, 200, 153],\n",
              "         [250, 226, 163],\n",
              "         [240, 231, 159],\n",
              "         ...,\n",
              "         [247, 210, 138],\n",
              "         [244, 204, 143],\n",
              "         [168, 174, 123]],\n",
              " \n",
              "        [[149, 194, 163],\n",
              "         [254, 219, 159],\n",
              "         [247, 218, 159],\n",
              "         ...,\n",
              "         [251, 204, 137],\n",
              "         [252, 208, 141],\n",
              "         [166, 168, 126]],\n",
              " \n",
              "        ...,\n",
              " \n",
              "        [[ 11,  69, 122],\n",
              "         [  4,   1, 113],\n",
              "         [  6,   3,  99],\n",
              "         ...,\n",
              "         [ 60,  58, 209],\n",
              "         [ 83,  73, 206],\n",
              "         [ 58,  73, 169]],\n",
              " \n",
              "        [[ 17,  77, 132],\n",
              "         [  3,  16, 132],\n",
              "         [  1,  20, 107],\n",
              "         ...,\n",
              "         [ 60,  73, 212],\n",
              "         [ 61,  75, 218],\n",
              "         [ 56,  83, 171]],\n",
              " \n",
              "        [[ 10,  37,  42],\n",
              "         [  1,  23,  23],\n",
              "         [  4,  25,  21],\n",
              "         ...,\n",
              "         [  8,  22,  34],\n",
              "         [  5,  20,  30],\n",
              "         [  5,  25,  25]]], dtype=uint8), array([[[ 72, 154, 156],\n",
              "         [ 99, 180, 176],\n",
              "         [108, 177, 178],\n",
              "         ...,\n",
              "         [ 81, 159, 182],\n",
              "         [ 88, 166, 177],\n",
              "         [ 66, 133, 135]],\n",
              " \n",
              "        [[133, 195, 192],\n",
              "         [207, 251, 246],\n",
              "         [211, 252, 252],\n",
              "         ...,\n",
              "         [150, 189, 254],\n",
              "         [181, 217, 248],\n",
              "         [139, 167, 163]],\n",
              " \n",
              "        [[118, 190, 190],\n",
              "         [221, 254, 254],\n",
              "         [185, 251, 250],\n",
              "         ...,\n",
              "         [181, 219, 254],\n",
              "         [206, 252, 252],\n",
              "         [130, 163, 162]],\n",
              " \n",
              "        ...,\n",
              " \n",
              "        [[ 78, 162, 194],\n",
              "         [101, 157, 226],\n",
              "         [ 59, 127, 208],\n",
              "         ...,\n",
              "         [ 23,  44,  77],\n",
              "         [ 36,  39,  87],\n",
              "         [ 20,  52,  75]],\n",
              " \n",
              "        [[ 70, 151, 197],\n",
              "         [116, 173, 241],\n",
              "         [ 95, 159, 241],\n",
              "         ...,\n",
              "         [ 52,  66,  96],\n",
              "         [ 54,  52,  95],\n",
              "         [ 30,  53,  74]],\n",
              " \n",
              "        [[ 25,  76,  81],\n",
              "         [ 34,  62,  79],\n",
              "         [ 24,  57,  72],\n",
              "         ...,\n",
              "         [ 16,  45,  52],\n",
              "         [ 16,  38,  50],\n",
              "         [  8,  39,  43]]], dtype=uint8), array([[[232, 151, 110],\n",
              "         [234, 149, 109],\n",
              "         [233, 148, 108],\n",
              "         ...,\n",
              "         [216,  85,  22],\n",
              "         [216,  85,  21],\n",
              "         [216,  86,  21]],\n",
              " \n",
              "        [[233, 151, 109],\n",
              "         [236, 150, 110],\n",
              "         [236, 148, 110],\n",
              "         ...,\n",
              "         [216,  83,  24],\n",
              "         [215,  83,  22],\n",
              "         [218,  86,  25]],\n",
              " \n",
              "        [[233, 151, 106],\n",
              "         [235, 148, 108],\n",
              "         [235, 147, 109],\n",
              "         ...,\n",
              "         [216,  83,  26],\n",
              "         [216,  83,  25],\n",
              "         [219,  86,  28]],\n",
              " \n",
              "        ...,\n",
              " \n",
              "        [[206, 115,  89],\n",
              "         [248, 138, 106],\n",
              "         [252, 147, 104],\n",
              "         ...,\n",
              "         [230, 101,  39],\n",
              "         [230, 101,  18],\n",
              "         [231, 103,  25]],\n",
              " \n",
              "        [[ 26,  41,  34],\n",
              "         [ 54,  55,  41],\n",
              "         [ 97,  70,  50],\n",
              "         ...,\n",
              "         [ 53,  69,  52],\n",
              "         [212, 109,  71],\n",
              "         [226,  98,  42]],\n",
              " \n",
              "        [[  7,  45,  26],\n",
              "         [  9,  44,  28],\n",
              "         [ 10,  44,  29],\n",
              "         ...,\n",
              "         [ 13,  46,  40],\n",
              "         [ 48,  75,  84],\n",
              "         [ 78, 140, 139]]], dtype=uint8), array([[[ 31, 127, 121],\n",
              "         [ 78, 121,  99],\n",
              "         [ 77, 122,  99],\n",
              "         ...,\n",
              "         [ 22, 115, 127],\n",
              "         [ 79, 129, 105],\n",
              "         [ 39,  98,  87]],\n",
              " \n",
              "        [[ 79, 129, 112],\n",
              "         [200, 101,  51],\n",
              "         [176, 110,  49],\n",
              "         ...,\n",
              "         [ 21,  97, 134],\n",
              "         [208, 118,  73],\n",
              "         [101,  84,  59]],\n",
              " \n",
              "        [[ 67, 128, 109],\n",
              "         [179, 114,  57],\n",
              "         [181, 109,  63],\n",
              "         ...,\n",
              "         [ 45,  94, 130],\n",
              "         [174, 120,  69],\n",
              "         [ 85,  83,  64]],\n",
              " \n",
              "        ...,\n",
              " \n",
              "        [[ 26, 119, 115],\n",
              "         [112, 138, 117],\n",
              "         [ 85, 109,  96],\n",
              "         ...,\n",
              "         [ 67, 136, 109],\n",
              "         [ 66, 139, 101],\n",
              "         [ 38,  96,  77]],\n",
              " \n",
              "        [[ 11, 106, 100],\n",
              "         [ 19,  35,  22],\n",
              "         [ 16,  43,  35],\n",
              "         ...,\n",
              "         [ 66, 139, 107],\n",
              "         [ 82, 157, 115],\n",
              "         [ 42, 101,  78]],\n",
              " \n",
              "        [[ 11,  88,  87],\n",
              "         [  9,  49,  40],\n",
              "         [ 15,  45,  44],\n",
              "         ...,\n",
              "         [ 22,  76,  64],\n",
              "         [ 28,  83,  60],\n",
              "         [ 19,  56,  51]]], dtype=uint8)]"
            ]
          },
          "metadata": {
            "tags": []
          },
          "execution_count": 28
        }
      ]
    },
    {
      "cell_type": "code",
      "metadata": {
        "id": "fDQuMpt0FFft",
        "colab": {
          "base_uri": "https://localhost:8080/"
        },
        "outputId": "37199691-e26a-4601-cead-5d805285dec4"
      },
      "source": [
        "# One Hot Encoding Labels\n",
        "labels = pd.get_dummies(labels)\n",
        "labels = labels.values.argmax(1)\n",
        "labels = labels.astype(\"float32\")\n",
        "labels = to_categorical(labels)\n",
        "labels"
      ],
      "execution_count": 44,
      "outputs": [
        {
          "output_type": "execute_result",
          "data": {
            "text/plain": [
              "array([[0., 0., 0., 1., 0.],\n",
              "       [0., 0., 0., 1., 0.],\n",
              "       [0., 0., 0., 1., 0.],\n",
              "       ...,\n",
              "       [0., 0., 1., 0., 0.],\n",
              "       [0., 0., 1., 0., 0.],\n",
              "       [0., 0., 1., 0., 0.]], dtype=float32)"
            ]
          },
          "metadata": {
            "tags": []
          },
          "execution_count": 44
        }
      ]
    },
    {
      "cell_type": "code",
      "metadata": {
        "id": "yEI_Vu9VjeNo"
      },
      "source": [
        "# Normalizing Features\n",
        "features = np.array(features).astype(\"float32\") / 255"
      ],
      "execution_count": 43,
      "outputs": []
    },
    {
      "cell_type": "code",
      "metadata": {
        "colab": {
          "base_uri": "https://localhost:8080/"
        },
        "id": "FcN4OyWPkio1",
        "outputId": "8ec14b38-1bce-4bbb-fd05-46c62f58c44b"
      },
      "source": [
        "labels.shape"
      ],
      "execution_count": 47,
      "outputs": [
        {
          "output_type": "execute_result",
          "data": {
            "text/plain": [
              "(4325, 5)"
            ]
          },
          "metadata": {
            "tags": []
          },
          "execution_count": 47
        }
      ]
    },
    {
      "cell_type": "code",
      "metadata": {
        "colab": {
          "base_uri": "https://localhost:8080/"
        },
        "id": "Ld5qcfowlgFK",
        "outputId": "3bc1a2c9-3ccd-47fd-bc39-60679aea3b59"
      },
      "source": [
        "features.shape"
      ],
      "execution_count": 48,
      "outputs": [
        {
          "output_type": "execute_result",
          "data": {
            "text/plain": [
              "(4325, 150, 150, 3)"
            ]
          },
          "metadata": {
            "tags": []
          },
          "execution_count": 48
        }
      ]
    },
    {
      "cell_type": "code",
      "metadata": {
        "id": "UOWBaA6TlkqC"
      },
      "source": [
        "# Splitting The Dataset Into Training And Testing Images\n",
        "train_data, test_data, train_labels, test_labels = train_test_split(features, labels, test_size = 0.4, random_state = 1)"
      ],
      "execution_count": 49,
      "outputs": []
    },
    {
      "cell_type": "code",
      "metadata": {
        "colab": {
          "base_uri": "https://localhost:8080/"
        },
        "id": "N6yVwdCjm1Qq",
        "outputId": "737e19a3-c207-4d17-fe49-4964751c7b0b"
      },
      "source": [
        "train_data.shape"
      ],
      "execution_count": 51,
      "outputs": [
        {
          "output_type": "execute_result",
          "data": {
            "text/plain": [
              "(2595, 150, 150, 3)"
            ]
          },
          "metadata": {
            "tags": []
          },
          "execution_count": 51
        }
      ]
    },
    {
      "cell_type": "code",
      "metadata": {
        "colab": {
          "base_uri": "https://localhost:8080/"
        },
        "id": "MRkm6OwVm6en",
        "outputId": "f450adec-cfbb-43fc-9b92-d4322f9a7ea3"
      },
      "source": [
        "test_data.shape"
      ],
      "execution_count": 52,
      "outputs": [
        {
          "output_type": "execute_result",
          "data": {
            "text/plain": [
              "(1730, 150, 150, 3)"
            ]
          },
          "metadata": {
            "tags": []
          },
          "execution_count": 52
        }
      ]
    },
    {
      "cell_type": "code",
      "metadata": {
        "colab": {
          "base_uri": "https://localhost:8080/"
        },
        "id": "_tvtWc4sm-S7",
        "outputId": "90c15716-fdd2-47b0-ce5f-673a5cf78108"
      },
      "source": [
        "train_labels.shape"
      ],
      "execution_count": 53,
      "outputs": [
        {
          "output_type": "execute_result",
          "data": {
            "text/plain": [
              "(2595, 5)"
            ]
          },
          "metadata": {
            "tags": []
          },
          "execution_count": 53
        }
      ]
    },
    {
      "cell_type": "code",
      "metadata": {
        "colab": {
          "base_uri": "https://localhost:8080/"
        },
        "id": "BN5kYyccnoGq",
        "outputId": "20a870de-519c-4997-8307-574ead7280da"
      },
      "source": [
        "test_labels.shape"
      ],
      "execution_count": 54,
      "outputs": [
        {
          "output_type": "execute_result",
          "data": {
            "text/plain": [
              "(1730, 5)"
            ]
          },
          "metadata": {
            "tags": []
          },
          "execution_count": 54
        }
      ]
    },
    {
      "cell_type": "code",
      "metadata": {
        "colab": {
          "base_uri": "https://localhost:8080/"
        },
        "id": "FTgBLtaKnz1A",
        "outputId": "15e0ae3e-ba41-4601-f685-b4344456e732"
      },
      "source": [
        "# Building Deep Learning Model\n",
        "model = Sequential()\n",
        "model.add(Dense(256, activation='relu', input_shape = (train_data.shape[1],)))\n",
        "model.add(Dropout(0.3))\n",
        "model.add(Dense(128, activation='relu'))\n",
        "model.add(Dropout(0.3))\n",
        "model.add(Dense(64, activation='relu'))\n",
        "model.add(Dropout(0.3))\n",
        "model.add(Dense(32, activation='relu'))\n",
        "model.add(Dense(5, activation='softmax'))\n",
        "model.summary()"
      ],
      "execution_count": 56,
      "outputs": [
        {
          "output_type": "stream",
          "text": [
            "Model: \"sequential_1\"\n",
            "_________________________________________________________________\n",
            "Layer (type)                 Output Shape              Param #   \n",
            "=================================================================\n",
            "dense_1 (Dense)              (None, 256)               38656     \n",
            "_________________________________________________________________\n",
            "dropout (Dropout)            (None, 256)               0         \n",
            "_________________________________________________________________\n",
            "dense_2 (Dense)              (None, 128)               32896     \n",
            "_________________________________________________________________\n",
            "dropout_1 (Dropout)          (None, 128)               0         \n",
            "_________________________________________________________________\n",
            "dense_3 (Dense)              (None, 64)                8256      \n",
            "_________________________________________________________________\n",
            "dropout_2 (Dropout)          (None, 64)                0         \n",
            "_________________________________________________________________\n",
            "dense_4 (Dense)              (None, 32)                2080      \n",
            "_________________________________________________________________\n",
            "dense_5 (Dense)              (None, 5)                 165       \n",
            "=================================================================\n",
            "Total params: 82,053\n",
            "Trainable params: 82,053\n",
            "Non-trainable params: 0\n",
            "_________________________________________________________________\n"
          ],
          "name": "stdout"
        }
      ]
    },
    {
      "cell_type": "code",
      "metadata": {
        "id": "ec-xVOB6pHKV"
      },
      "source": [
        "# Compilation Step\n",
        "model.compile(optimizer=Adam(0.01), loss = 'categorical_crossentropy', metrics = ['accuracy'])"
      ],
      "execution_count": 57,
      "outputs": []
    },
    {
      "cell_type": "code",
      "metadata": {
        "id": "3TmUImgUpZlO"
      },
      "source": [
        "# Fitting Model On 80 Epochs\n",
        "history = history = model.fit(train_data, train_labels, epochs = 80, batch_size = 5)"
      ],
      "execution_count": null,
      "outputs": []
    }
  ]
}